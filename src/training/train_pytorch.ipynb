{
 "cells": [
  {
   "cell_type": "code",
   "execution_count": 1,
   "metadata": {},
   "outputs": [],
   "source": [
    "import torch\n",
    "import torch.nn as nn\n",
    "import numpy as np\n",
    "from PIL import Image\n",
    "import PIL\n",
    "import os\n",
    "encoding = '123456789'\n",
    "freq = [0]*len(encoding)\n",
    "\n",
    "class Captcha(torch.utils.data.Dataset):\n",
    "    def __init__(self, transform):\n",
    "        self.img_list = []\n",
    "        self.label_list = []\n",
    "        self.transform = transform\n",
    "        for root, dirs, files in os.walk('dataset'):\n",
    "            if root == 'dataset':\n",
    "                self.img_list.extend(files)\n",
    "                for f in files:\n",
    "                    label = []\n",
    "                    for i in range(4):\n",
    "                        label.append(encoding.index(f[i]))\n",
    "                        freq[encoding.index(f[i])]+=1\n",
    "                    self.label_list.append(label)\n",
    "        \n",
    "    def __getitem__(self, index):\n",
    "        prefix = 'dataset/'\n",
    "        img = Image.open(prefix+self.img_list[index])\n",
    "        img = PIL.ImageOps.invert(img)\n",
    "        return {\n",
    "            'img': self.transform(img),\n",
    "            'label': torch.Tensor(self.label_list[index]).long()\n",
    "        }\n",
    "    def __len__(self):\n",
    "        return len(self.img_list)"
   ]
  },
  {
   "cell_type": "code",
   "execution_count": 2,
   "metadata": {},
   "outputs": [],
   "source": [
    "from torchvision import transforms\n",
    "transform = transforms.Compose([\n",
    "                transforms.Grayscale(),\n",
    "                transforms.Pad((0, 50, 0, 50)),\n",
    "                transforms.Resize((224, 224)),\n",
    "                transforms.ToTensor()])"
   ]
  },
  {
   "cell_type": "code",
   "execution_count": 3,
   "metadata": {},
   "outputs": [
    {
     "data": {
      "image/png": "[encoded data removed]",
      "text/plain": [
       "<Figure size 432x288 with 1 Axes>"
      ]
     },
     "metadata": {
      "needs_background": "light"
     },
     "output_type": "display_data"
    },
    {
     "name": "stdout",
     "output_type": "stream",
     "text": [
      "torch.Size([1, 224, 224])\n",
      "Label: 1119\n",
      "Number of data: 281\n"
     ]
    }
   ],
   "source": [
    "import matplotlib.pyplot as plt\n",
    "dataset = Captcha(transform)\n",
    "plt.imshow(dataset[0]['img'].permute(1, 2, 0), cmap='gray')\n",
    "plt.show()\n",
    "print(dataset[0]['img'].size())\n",
    "print('Label: ', end='')\n",
    "for l in dataset[0]['label']:\n",
    "    print(encoding[int(l.item())], end='')\n",
    "print()\n",
    "print(\"Number of data:\", len(dataset))"
   ]
  },
  {
   "cell_type": "code",
   "execution_count": 4,
   "metadata": {},
   "outputs": [],
   "source": [
    "import torchvision.models as models\n",
    "class CaptchaSolver(nn.Module):\n",
    "    def __init__(self):\n",
    "        super(CaptchaSolver, self).__init__()\n",
    "        self.resnet = models.resnet50(pretrained=True)\n",
    "        self.resnet.conv1 = nn.Conv2d(1, 64, kernel_size=7, stride=2, padding=3, bias=False)\n",
    "        self.fc0 = nn.Linear(1000, len(encoding))\n",
    "        self.fc1 = nn.Linear(1000, len(encoding))\n",
    "        self.fc2 = nn.Linear(1000, len(encoding))\n",
    "        self.fc3 = nn.Linear(1000, len(encoding))\n",
    "    def forward(self, x):\n",
    "        x = self.resnet(x)\n",
    "        out = []\n",
    "        out.append(self.fc0(x))\n",
    "        out.append(self.fc1(x))\n",
    "        out.append(self.fc2(x))\n",
    "        out.append(self.fc3(x))\n",
    "        return out\n",
    "captchaSolver = CaptchaSolver().cuda()"
   ]
  },
  {
   "cell_type": "code",
   "execution_count": 5,
   "metadata": {},
   "outputs": [],
   "source": [
    "from torch.utils.data import DataLoader\n",
    "train_loader = DataLoader(dataset, batch_size=32, shuffle=True)\n",
    "\n",
    "criterion = nn.CrossEntropyLoss().cuda()\n",
    "optimizer = torch.optim.Adam(captchaSolver.parameters())\n",
    "\n",
    "max_epochs = 25\n",
    "log_interval = 1"
   ]
  },
  {
   "cell_type": "code",
   "execution_count": 6,
   "metadata": {},
   "outputs": [
    {
     "name": "stdout",
     "output_type": "stream",
     "text": [
      "Start training...\n",
      "\n",
      "==================== Epoch 1 ====================\n",
      "Train Acc: 0.000000 Train Loss: 11.172280\n",
      "\n",
      "==================== Epoch 2 ====================\n",
      "Train Acc: 0.000000 Train Loss: 8.588656\n",
      "\n",
      "==================== Epoch 3 ====================\n",
      "Train Acc: 0.000000 Train Loss: 8.064107\n",
      "\n",
      "==================== Epoch 4 ====================\n",
      "Train Acc: 0.000000 Train Loss: 7.259527\n",
      "\n",
      "==================== Epoch 5 ====================\n",
      "Train Acc: 0.032028 Train Loss: 6.360911\n",
      "\n",
      "==================== Epoch 6 ====================\n",
      "Train Acc: 0.024911 Train Loss: 5.566034\n",
      "\n",
      "==================== Epoch 7 ====================\n",
      "Train Acc: 0.060498 Train Loss: 5.044909\n",
      "\n",
      "==================== Epoch 8 ====================\n",
      "Train Acc: 0.145907 Train Loss: 3.903139\n",
      "\n",
      "==================== Epoch 9 ====================\n",
      "Train Acc: 0.263345 Train Loss: 2.928519\n",
      "\n",
      "==================== Epoch 10 ====================\n",
      "Train Acc: 0.373665 Train Loss: 2.383831\n",
      "\n",
      "==================== Epoch 11 ====================\n",
      "Train Acc: 0.469751 Train Loss: 1.880143\n",
      "\n",
      "==================== Epoch 12 ====================\n",
      "Train Acc: 0.590747 Train Loss: 1.417207\n",
      "\n",
      "==================== Epoch 13 ====================\n",
      "Train Acc: 0.640569 Train Loss: 1.117766\n",
      "\n",
      "==================== Epoch 14 ====================\n",
      "Train Acc: 0.786477 Train Loss: 0.811851\n",
      "\n",
      "==================== Epoch 15 ====================\n",
      "Train Acc: 0.818505 Train Loss: 0.607411\n",
      "\n",
      "==================== Epoch 16 ====================\n",
      "Train Acc: 0.886121 Train Loss: 0.452195\n",
      "\n",
      "==================== Epoch 17 ====================\n",
      "Train Acc: 0.879004 Train Loss: 0.392991\n",
      "\n",
      "==================== Epoch 18 ====================\n",
      "Train Acc: 0.932384 Train Loss: 0.288968\n",
      "\n",
      "==================== Epoch 19 ====================\n",
      "Train Acc: 0.953737 Train Loss: 0.205854\n",
      "\n",
      "==================== Epoch 20 ====================\n",
      "Train Acc: 0.928826 Train Loss: 0.207707\n",
      "\n",
      "==================== Epoch 21 ====================\n",
      "Train Acc: 0.989324 Train Loss: 0.094916\n",
      "\n",
      "==================== Epoch 22 ====================\n",
      "Train Acc: 0.971530 Train Loss: 0.114490\n",
      "\n",
      "==================== Epoch 23 ====================\n",
      "Train Acc: 0.978648 Train Loss: 0.082843\n",
      "\n",
      "==================== Epoch 24 ====================\n",
      "Train Acc: 0.978648 Train Loss: 0.078685\n",
      "\n",
      "==================== Epoch 25 ====================\n",
      "Train Acc: 0.996441 Train Loss: 0.038153\n"
     ]
    }
   ],
   "source": [
    "avg_acc_list = []\n",
    "avg_loss_list = []\n",
    "\n",
    "print(\"Start training...\")\n",
    "for epoch in range(1, max_epochs+1):\n",
    "    loss_list = []\n",
    "    total_count = 0\n",
    "    acc_count = 0\n",
    "    captchaSolver.train()\n",
    "    for data in train_loader:\n",
    "        optimizer.zero_grad()\n",
    "        img = data['img'].cuda()\n",
    "        label = data['label'].cuda()\n",
    "        out = captchaSolver(img)\n",
    "        loss = None\n",
    "        for i in range(4):\n",
    "            if loss is None:\n",
    "                loss = criterion(out[i], label[:, i])\n",
    "            else:\n",
    "                loss += criterion(out[i], label[:, i])\n",
    "        loss.backward()\n",
    "        optimizer.step()\n",
    "        loss_list.append(loss.item())\n",
    "        pred_label = None\n",
    "        for i in range(4):\n",
    "            _, pred = torch.max(out[i], 1)\n",
    "            if pred_label is None:\n",
    "                pred_label = pred.view(-1, 1)\n",
    "            else:\n",
    "                pred_label = torch.cat((pred_label, pred.view(-1, 1)), 1)\n",
    "        assert label.shape[0]==((pred_label == label).all(1).shape[0])\n",
    "        total_count += label.shape[0]\n",
    "        acc_count += (pred_label == label).all(1).sum().item()\n",
    "    acc = acc_count / total_count\n",
    "    loss = sum(loss_list) / len(loss_list)\n",
    "    avg_acc_list.append(acc)\n",
    "    avg_loss_list.append(loss)\n",
    "#     torch.save(captchaSolver.state_dict(), 'captcha_solver_params.pth')\n",
    "        \n",
    "    if epoch % log_interval == 0:\n",
    "        print('')\n",
    "        print('=' * 20, 'Epoch', epoch, '=' * 20)\n",
    "        print('Train Acc: {:.6f} Train Loss: {:.6f}'.format(acc, loss))"
   ]
  },
  {
   "cell_type": "code",
   "execution_count": 20,
   "metadata": {},
   "outputs": [
    {
     "name": "stdout",
     "output_type": "stream",
     "text": [
      "[ 0.5495129   0.6842297  -0.55489266 -1.2139034   0.42584324  1.1900687\n",
      "  0.40072086 -1.7187979  -0.1384216 ]\n",
      "[-0.22478618 -0.05247565  1.7215645  -0.9902711  -1.092309   -1.1470399\n",
      "  0.7557371   0.88847446  0.40381488]\n",
      "[ 2.7545555  -0.14659996  1.3333925   0.03224278 -0.7582777  -0.6638697\n",
      " -1.7586432   0.38360158 -0.8429081 ]\n",
      "[-1.1583666  -1.5497152  -1.259605    0.5701907   1.2382495   0.24734622\n",
      "  0.6084096  -0.12000037  1.0895535 ]\n",
      "5\n",
      "2\n",
      "0\n",
      "4\n"
     ]
    },
    {
     "data": {
      "image/png": "[encoded data removed]",
      "text/plain": [
       "<Figure size 432x288 with 1 Axes>"
      ]
     },
     "metadata": {
      "needs_background": "light"
     },
     "output_type": "display_data"
    }
   ],
   "source": [
    "out = [o.cpu().detach().numpy() for o in captchaSolver(torch.unsqueeze(dataset[0]['img'], 0).cuda())]\n",
    "for i in range(4):\n",
    "    print(out[i][0])\n",
    "for i in range(4):\n",
    "    print(out[i][0].argmax())\n",
    "plt.imshow(dataset[0]['img'].permute(1, 2, 0), cmap='gray')\n",
    "plt.show()"
   ]
  },
  {
   "cell_type": "code",
   "execution_count": null,
   "metadata": {},
   "outputs": [],
   "source": []
  }
 ],
 "metadata": {
  "kernelspec": {
   "display_name": "Python 3",
   "language": "python",
   "name": "python3"
  },
  "language_info": {
   "codemirror_mode": {
    "name": "ipython",
    "version": 3
   },
   "file_extension": ".py",
   "mimetype": "text/x-python",
   "name": "python",
   "nbconvert_exporter": "python",
   "pygments_lexer": "ipython3",
   "version": "3.6.8"
  }
 },
 "nbformat": 4,
 "nbformat_minor": 4
}
