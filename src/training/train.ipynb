{
 "cells": [
  {
   "cell_type": "code",
   "execution_count": 1,
   "metadata": {},
   "outputs": [
    {
     "name": "stdout",
     "output_type": "stream",
     "text": [
      "4.0\n"
     ]
    },
    {
     "data": {
      "image/png": "[encoded data removed]",
      "text/plain": [
       "<Figure size 432x288 with 1 Axes>"
      ]
     },
     "metadata": {
      "needs_background": "light"
     },
     "output_type": "display_data"
    }
   ],
   "source": [
    "import cv2\n",
    "import csv\n",
    "import random\n",
    "import numpy as np\n",
    "import matplotlib.pyplot as plt\n",
    "import tensorflow as tf\n",
    "\n",
    "encoding = '123456789'\n",
    "labels_file = 'labels.csv'\n",
    "\n",
    "img_list = []\n",
    "label_list = []\n",
    "\n",
    "with open(labels_file, newline='') as csvfile:\n",
    "    reader = csv.DictReader(csvfile)\n",
    "    fieldnames = reader.fieldnames\n",
    "    for row in reader:\n",
    "        img_list.append(row[fieldnames[0]])\n",
    "        label_list.append(encoding.index(row[fieldnames[1]]))\n",
    "    \n",
    "items=[]\n",
    "for i in range(len(img_list)):\n",
    "    items.append(i)\n",
    "X = []\n",
    "y = []\n",
    "for i in random.sample(items,len(img_list)):\n",
    "    img = cv2.imread(img_list[i], 0)\n",
    "    img = tf.keras.preprocessing.image.img_to_array(img)\n",
    "    X.append(img)\n",
    "    y.append(label_list[i])\n",
    "    \n",
    "X = 1 - np.array(X).astype(float)/255 # invert and scale\n",
    "y = np.array(y).astype(float)\n",
    "\n",
    "plt.imshow(X[0], cmap=plt.get_cmap('gray'))\n",
    "print(y[0])"
   ]
  },
  {
   "cell_type": "code",
   "execution_count": 2,
   "metadata": {},
   "outputs": [
    {
     "name": "stdout",
     "output_type": "stream",
     "text": [
      "Model: \"sequential\"\n",
      "_________________________________________________________________\n",
      "Layer (type)                 Output Shape              Param #   \n",
      "=================================================================\n",
      "conv2d (Conv2D)              (None, 22, 29, 32)        320       \n",
      "_________________________________________________________________\n",
      "batch_normalization (BatchNo (None, 22, 29, 32)        128       \n",
      "_________________________________________________________________\n",
      "max_pooling2d (MaxPooling2D) (None, 11, 14, 32)        0         \n",
      "_________________________________________________________________\n",
      "conv2d_1 (Conv2D)            (None, 9, 12, 64)         18496     \n",
      "_________________________________________________________________\n",
      "batch_normalization_1 (Batch (None, 9, 12, 64)         256       \n",
      "_________________________________________________________________\n",
      "max_pooling2d_1 (MaxPooling2 (None, 4, 6, 64)          0         \n",
      "_________________________________________________________________\n",
      "conv2d_2 (Conv2D)            (None, 2, 4, 128)         73856     \n",
      "_________________________________________________________________\n",
      "batch_normalization_2 (Batch (None, 2, 4, 128)         512       \n",
      "_________________________________________________________________\n",
      "flatten (Flatten)            (None, 1024)              0         \n",
      "_________________________________________________________________\n",
      "dropout (Dropout)            (None, 1024)              0         \n",
      "_________________________________________________________________\n",
      "dense (Dense)                (None, 128)               131200    \n",
      "_________________________________________________________________\n",
      "dropout_1 (Dropout)          (None, 128)               0         \n",
      "_________________________________________________________________\n",
      "dense_1 (Dense)              (None, 9)                 1161      \n",
      "=================================================================\n",
      "Total params: 225,929\n",
      "Trainable params: 225,481\n",
      "Non-trainable params: 448\n",
      "_________________________________________________________________\n"
     ]
    }
   ],
   "source": [
    "model = tf.keras.Sequential()\n",
    "model.add(tf.keras.layers.Conv2D(32, kernel_size=(3, 3), activation='relu', input_shape=(24, 31, 1)))\n",
    "model.add(tf.keras.layers.BatchNormalization())\n",
    "model.add(tf.keras.layers.MaxPooling2D(pool_size=(2, 2)))\n",
    "model.add(tf.keras.layers.Conv2D(64, (3, 3), activation='relu'))\n",
    "model.add(tf.keras.layers.BatchNormalization())\n",
    "model.add(tf.keras.layers.MaxPooling2D(pool_size=(2, 2)))\n",
    "model.add(tf.keras.layers.Conv2D(128, (3, 3), activation='relu'))\n",
    "model.add(tf.keras.layers.BatchNormalization())\n",
    "model.add(tf.keras.layers.Flatten())\n",
    "model.add(tf.keras.layers.Dropout(rate=0.25))\n",
    "model.add(tf.keras.layers.Dense(128, activation='relu'))\n",
    "model.add(tf.keras.layers.Dropout(rate=0.5))\n",
    "model.add(tf.keras.layers.Dense(9, activation='softmax'))\n",
    "model.summary()"
   ]
  },
  {
   "cell_type": "code",
   "execution_count": 3,
   "metadata": {},
   "outputs": [],
   "source": [
    "initial_learning_rate = 1e-3\n",
    "lr_schedule = tf.keras.optimizers.schedules.ExponentialDecay(\n",
    "    initial_learning_rate,\n",
    "    decay_steps=100000,\n",
    "    decay_rate=0.96,\n",
    "    staircase=True\n",
    ")\n",
    "model.compile(\n",
    "    loss=tf.keras.losses.SparseCategoricalCrossentropy(), \n",
    "    optimizer=tf.keras.optimizers.Adam(learning_rate=lr_schedule), \n",
    "    metrics=[tf.keras.metrics.SparseCategoricalAccuracy()]\n",
    ")\n",
    "batch_size = 32\n",
    "epochs = 80"
   ]
  },
  {
   "cell_type": "code",
   "execution_count": 4,
   "metadata": {},
   "outputs": [
    {
     "name": "stdout",
     "output_type": "stream",
     "text": [
      "Epoch 1/80\n",
      "82/82 [==============================] - 2s 16ms/step - loss: 2.1057 - sparse_categorical_accuracy: 0.4119 - val_loss: 2.4444 - val_sparse_categorical_accuracy: 0.0948\n",
      "Epoch 2/80\n",
      "82/82 [==============================] - 1s 9ms/step - loss: 0.3676 - sparse_categorical_accuracy: 0.8758 - val_loss: 5.3424 - val_sparse_categorical_accuracy: 0.1147\n",
      "Epoch 3/80\n",
      "82/82 [==============================] - 1s 9ms/step - loss: 0.1609 - sparse_categorical_accuracy: 0.9393 - val_loss: 7.5602 - val_sparse_categorical_accuracy: 0.1147\n",
      "Epoch 4/80\n",
      "82/82 [==============================] - 1s 9ms/step - loss: 0.0978 - sparse_categorical_accuracy: 0.9696 - val_loss: 7.8782 - val_sparse_categorical_accuracy: 0.1177\n",
      "Epoch 5/80\n",
      "82/82 [==============================] - 1s 9ms/step - loss: 0.0705 - sparse_categorical_accuracy: 0.9767 - val_loss: 5.4484 - val_sparse_categorical_accuracy: 0.2034\n",
      "Epoch 6/80\n",
      "82/82 [==============================] - 1s 9ms/step - loss: 0.0387 - sparse_categorical_accuracy: 0.9880 - val_loss: 2.0129 - val_sparse_categorical_accuracy: 0.5168\n",
      "Epoch 7/80\n",
      "82/82 [==============================] - 1s 9ms/step - loss: 0.0409 - sparse_categorical_accuracy: 0.9882 - val_loss: 0.3647 - val_sparse_categorical_accuracy: 0.8746\n",
      "Epoch 8/80\n",
      "82/82 [==============================] - 1s 9ms/step - loss: 0.0222 - sparse_categorical_accuracy: 0.9935 - val_loss: 0.1596 - val_sparse_categorical_accuracy: 0.9404\n",
      "Epoch 9/80\n",
      "82/82 [==============================] - 1s 9ms/step - loss: 0.0222 - sparse_categorical_accuracy: 0.9927 - val_loss: 0.0306 - val_sparse_categorical_accuracy: 0.9924\n",
      "Epoch 10/80\n",
      "82/82 [==============================] - 1s 9ms/step - loss: 0.0159 - sparse_categorical_accuracy: 0.9953 - val_loss: 0.0158 - val_sparse_categorical_accuracy: 0.9939\n",
      "Epoch 11/80\n",
      "82/82 [==============================] - 1s 9ms/step - loss: 0.0088 - sparse_categorical_accuracy: 0.9978 - val_loss: 0.0158 - val_sparse_categorical_accuracy: 0.9954\n",
      "Epoch 12/80\n",
      "82/82 [==============================] - 1s 9ms/step - loss: 0.0131 - sparse_categorical_accuracy: 0.9968 - val_loss: 0.0145 - val_sparse_categorical_accuracy: 0.9939\n",
      "Epoch 13/80\n",
      "82/82 [==============================] - 1s 9ms/step - loss: 0.0172 - sparse_categorical_accuracy: 0.9943 - val_loss: 0.0273 - val_sparse_categorical_accuracy: 0.9908\n",
      "Epoch 14/80\n",
      "82/82 [==============================] - 1s 10ms/step - loss: 0.0072 - sparse_categorical_accuracy: 0.9987 - val_loss: 0.0549 - val_sparse_categorical_accuracy: 0.9817\n",
      "Epoch 15/80\n",
      "82/82 [==============================] - 1s 9ms/step - loss: 0.0104 - sparse_categorical_accuracy: 0.9968 - val_loss: 0.0252 - val_sparse_categorical_accuracy: 0.9908\n",
      "Epoch 16/80\n",
      "82/82 [==============================] - 1s 9ms/step - loss: 0.0156 - sparse_categorical_accuracy: 0.9923 - val_loss: 0.0260 - val_sparse_categorical_accuracy: 0.9893\n",
      "Epoch 17/80\n",
      "82/82 [==============================] - 1s 9ms/step - loss: 0.0294 - sparse_categorical_accuracy: 0.9922 - val_loss: 0.0334 - val_sparse_categorical_accuracy: 0.9893\n",
      "Epoch 18/80\n",
      "82/82 [==============================] - 1s 9ms/step - loss: 0.0185 - sparse_categorical_accuracy: 0.9944 - val_loss: 0.0329 - val_sparse_categorical_accuracy: 0.9939\n",
      "Epoch 19/80\n",
      "82/82 [==============================] - 1s 9ms/step - loss: 0.0111 - sparse_categorical_accuracy: 0.9971 - val_loss: 0.0131 - val_sparse_categorical_accuracy: 0.9969\n",
      "Epoch 20/80\n",
      "82/82 [==============================] - 1s 9ms/step - loss: 0.0145 - sparse_categorical_accuracy: 0.9938 - val_loss: 0.0189 - val_sparse_categorical_accuracy: 0.9954\n",
      "Epoch 21/80\n",
      "82/82 [==============================] - 1s 9ms/step - loss: 0.0050 - sparse_categorical_accuracy: 0.9986 - val_loss: 0.0205 - val_sparse_categorical_accuracy: 0.9954\n",
      "Epoch 22/80\n",
      "82/82 [==============================] - 1s 9ms/step - loss: 0.0065 - sparse_categorical_accuracy: 0.9983 - val_loss: 0.0094 - val_sparse_categorical_accuracy: 0.9969\n",
      "Epoch 23/80\n",
      "82/82 [==============================] - 1s 9ms/step - loss: 0.0045 - sparse_categorical_accuracy: 0.9991 - val_loss: 0.0084 - val_sparse_categorical_accuracy: 0.9969\n",
      "Epoch 24/80\n",
      "82/82 [==============================] - 1s 9ms/step - loss: 0.0065 - sparse_categorical_accuracy: 0.9985 - val_loss: 0.0237 - val_sparse_categorical_accuracy: 0.9924\n",
      "Epoch 25/80\n",
      "82/82 [==============================] - 1s 9ms/step - loss: 0.0079 - sparse_categorical_accuracy: 0.9976 - val_loss: 0.0154 - val_sparse_categorical_accuracy: 0.9969\n",
      "Epoch 26/80\n",
      "82/82 [==============================] - 1s 9ms/step - loss: 0.0160 - sparse_categorical_accuracy: 0.9960 - val_loss: 0.0622 - val_sparse_categorical_accuracy: 0.9771\n",
      "Epoch 27/80\n",
      "82/82 [==============================] - 1s 9ms/step - loss: 0.0117 - sparse_categorical_accuracy: 0.9971 - val_loss: 0.0481 - val_sparse_categorical_accuracy: 0.9847\n",
      "Epoch 28/80\n",
      "82/82 [==============================] - 1s 9ms/step - loss: 0.0381 - sparse_categorical_accuracy: 0.9894 - val_loss: 0.0361 - val_sparse_categorical_accuracy: 0.9908\n",
      "Epoch 29/80\n",
      "82/82 [==============================] - 1s 9ms/step - loss: 0.0079 - sparse_categorical_accuracy: 0.9977 - val_loss: 0.0423 - val_sparse_categorical_accuracy: 0.9908\n",
      "Epoch 30/80\n",
      "82/82 [==============================] - 1s 11ms/step - loss: 0.0102 - sparse_categorical_accuracy: 0.9974 - val_loss: 0.0279 - val_sparse_categorical_accuracy: 0.9924\n",
      "Epoch 31/80\n",
      "82/82 [==============================] - 1s 9ms/step - loss: 0.0085 - sparse_categorical_accuracy: 0.9974 - val_loss: 0.0329 - val_sparse_categorical_accuracy: 0.9893\n",
      "Epoch 32/80\n",
      "82/82 [==============================] - 1s 9ms/step - loss: 0.0046 - sparse_categorical_accuracy: 0.9997 - val_loss: 0.0204 - val_sparse_categorical_accuracy: 0.9954\n",
      "Epoch 33/80\n",
      "82/82 [==============================] - 1s 9ms/step - loss: 0.0048 - sparse_categorical_accuracy: 0.9981 - val_loss: 0.0686 - val_sparse_categorical_accuracy: 0.9862\n"
     ]
    }
   ],
   "source": [
    "history = model.fit(\n",
    "    X, \n",
    "    y,\n",
    "    batch_size = batch_size,\n",
    "    epochs = epochs,\n",
    "    validation_split = 0.2,\n",
    "    callbacks = [tf.keras.callbacks.EarlyStopping(monitor='val_loss', patience=10)]\n",
    ")"
   ]
  },
  {
   "cell_type": "code",
   "execution_count": 5,
   "metadata": {},
   "outputs": [
    {
     "data": {
      "image/png": "[encoded data removed]",
      "text/plain": [
       "<Figure size 576x360 with 1 Axes>"
      ]
     },
     "metadata": {
      "needs_background": "light"
     },
     "output_type": "display_data"
    }
   ],
   "source": [
    "import pandas as pd\n",
    "def plot_learning_curves(history):\n",
    "    df = pd.DataFrame(history.history)\n",
    "    df.plot(figsize=(8,5))\n",
    "    plt.grid(True)\n",
    "    plt.gca().set_ylim(0,1)\n",
    "    plt.show()\n",
    "    \n",
    "plot_learning_curves(history)"
   ]
  },
  {
   "cell_type": "code",
   "execution_count": 6,
   "metadata": {},
   "outputs": [
    {
     "data": {
      "text/plain": [
       "array([[3.34373859e-13, 1.79413635e-12, 8.35356506e-11, 1.05443584e-10,\n",
       "        3.04306615e-11, 1.00000000e+00, 9.15761564e-12, 3.73703246e-09,\n",
       "        8.93470009e-09]], dtype=float32)"
      ]
     },
     "execution_count": 6,
     "metadata": {},
     "output_type": "execute_result"
    },
    {
     "data": {
      "image/png": "[encoded data removed]",
      "text/plain": [
       "<Figure size 432x288 with 1 Axes>"
      ]
     },
     "metadata": {
      "needs_background": "light"
     },
     "output_type": "display_data"
    }
   ],
   "source": [
    "out = model.predict(np.expand_dims(X[5], 0))\n",
    "plt.imshow(X[5], cmap=plt.get_cmap('gray'))\n",
    "out"
   ]
  },
  {
   "cell_type": "code",
   "execution_count": 7,
   "metadata": {},
   "outputs": [],
   "source": [
    "model.save('model.h5')"
   ]
  },
  {
   "cell_type": "code",
   "execution_count": null,
   "metadata": {},
   "outputs": [],
   "source": []
  }
 ],
 "metadata": {
  "kernelspec": {
   "display_name": "Python 3",
   "language": "python",
   "name": "python3"
  },
  "language_info": {
   "codemirror_mode": {
    "name": "ipython",
    "version": 3
   },
   "file_extension": ".py",
   "mimetype": "text/x-python",
   "name": "python",
   "nbconvert_exporter": "python",
   "pygments_lexer": "ipython3",
   "version": "3.6.8"
  }
 },
 "nbformat": 4,
 "nbformat_minor": 4
}
