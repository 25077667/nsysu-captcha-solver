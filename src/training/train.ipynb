{
 "cells": [
  {
   "cell_type": "code",
   "execution_count": 1,
   "metadata": {},
   "outputs": [
    {
     "name": "stdout",
     "output_type": "stream",
     "text": [
      "3.0\n"
     ]
    },
    {
     "data": {
      "image/png": "[encoded data removed]",
      "text/plain": [
       "<Figure size 432x288 with 1 Axes>"
      ]
     },
     "metadata": {
      "needs_background": "light"
     },
     "output_type": "display_data"
    }
   ],
   "source": [
    "import cv2\n",
    "import csv\n",
    "import random\n",
    "import numpy as np\n",
    "import matplotlib.pyplot as plt\n",
    "import tensorflow as tf\n",
    "\n",
    "encoding = '123456789'\n",
    "labels_file = 'labels.csv'\n",
    "\n",
    "img_list = []\n",
    "label_list = []\n",
    "\n",
    "with open(labels_file, newline='') as csvfile:\n",
    "    reader = csv.DictReader(csvfile)\n",
    "    fieldnames = reader.fieldnames\n",
    "    for row in reader:\n",
    "        img_list.append(row[fieldnames[0]])\n",
    "        label_list.append(encoding.index(row[fieldnames[1]]))\n",
    "    \n",
    "items=[]\n",
    "for i in range(len(img_list)):\n",
    "    items.append(i)\n",
    "X = []\n",
    "y = []\n",
    "for i in random.sample(items,len(img_list)):\n",
    "    img = cv2.imread(img_list[i], 0)\n",
    "    img = tf.keras.preprocessing.image.img_to_array(img)\n",
    "    X.append(img)\n",
    "    y.append(label_list[i])\n",
    "    \n",
    "X = 1 - np.array(X).astype(float)/255 # invert and scale\n",
    "y = np.array(y).astype(float)\n",
    "\n",
    "plt.imshow(X[0], cmap=plt.get_cmap('gray'))\n",
    "print(y[0])"
   ]
  },
  {
   "cell_type": "code",
   "execution_count": 2,
   "metadata": {},
   "outputs": [
    {
     "name": "stdout",
     "output_type": "stream",
     "text": [
      "Model: \"sequential\"\n",
      "_________________________________________________________________\n",
      "Layer (type)                 Output Shape              Param #   \n",
      "=================================================================\n",
      "conv2d (Conv2D)              (None, 22, 29, 32)        320       \n",
      "_________________________________________________________________\n",
      "batch_normalization (BatchNo (None, 22, 29, 32)        128       \n",
      "_________________________________________________________________\n",
      "max_pooling2d (MaxPooling2D) (None, 11, 14, 32)        0         \n",
      "_________________________________________________________________\n",
      "conv2d_1 (Conv2D)            (None, 9, 12, 64)         18496     \n",
      "_________________________________________________________________\n",
      "batch_normalization_1 (Batch (None, 9, 12, 64)         256       \n",
      "_________________________________________________________________\n",
      "max_pooling2d_1 (MaxPooling2 (None, 4, 6, 64)          0         \n",
      "_________________________________________________________________\n",
      "conv2d_2 (Conv2D)            (None, 2, 4, 128)         73856     \n",
      "_________________________________________________________________\n",
      "batch_normalization_2 (Batch (None, 2, 4, 128)         512       \n",
      "_________________________________________________________________\n",
      "flatten (Flatten)            (None, 1024)              0         \n",
      "_________________________________________________________________\n",
      "dropout (Dropout)            (None, 1024)              0         \n",
      "_________________________________________________________________\n",
      "dense (Dense)                (None, 128)               131200    \n",
      "_________________________________________________________________\n",
      "dropout_1 (Dropout)          (None, 128)               0         \n",
      "_________________________________________________________________\n",
      "dense_1 (Dense)              (None, 9)                 1161      \n",
      "=================================================================\n",
      "Total params: 225,929\n",
      "Trainable params: 225,481\n",
      "Non-trainable params: 448\n",
      "_________________________________________________________________\n"
     ]
    }
   ],
   "source": [
    "model = tf.keras.Sequential()\n",
    "model.add(tf.keras.layers.Conv2D(32, kernel_size=(3, 3), activation='relu', input_shape=(24, 31, 1)))\n",
    "model.add(tf.keras.layers.BatchNormalization())\n",
    "model.add(tf.keras.layers.MaxPooling2D(pool_size=(2, 2)))\n",
    "model.add(tf.keras.layers.Conv2D(64, (3, 3), activation='relu'))\n",
    "model.add(tf.keras.layers.BatchNormalization())\n",
    "model.add(tf.keras.layers.MaxPooling2D(pool_size=(2, 2)))\n",
    "model.add(tf.keras.layers.Conv2D(128, (3, 3), activation='relu'))\n",
    "model.add(tf.keras.layers.BatchNormalization())\n",
    "model.add(tf.keras.layers.Flatten())\n",
    "model.add(tf.keras.layers.Dropout(rate=0.25))\n",
    "model.add(tf.keras.layers.Dense(128, activation='relu'))\n",
    "model.add(tf.keras.layers.Dropout(rate=0.5))\n",
    "model.add(tf.keras.layers.Dense(9, activation='softmax'))\n",
    "model.summary()"
   ]
  },
  {
   "cell_type": "code",
   "execution_count": 3,
   "metadata": {},
   "outputs": [],
   "source": [
    "initial_learning_rate = 1e-3\n",
    "lr_schedule = tf.keras.optimizers.schedules.ExponentialDecay(\n",
    "    initial_learning_rate,\n",
    "    decay_steps=100000,\n",
    "    decay_rate=0.9,\n",
    ")\n",
    "model.compile(\n",
    "    loss=tf.keras.losses.SparseCategoricalCrossentropy(), \n",
    "    optimizer=tf.keras.optimizers.Adam(learning_rate=lr_schedule), \n",
    "    metrics=[tf.keras.metrics.SparseCategoricalAccuracy()]\n",
    ")\n",
    "batch_size = 32\n",
    "epochs = 80"
   ]
  },
  {
   "cell_type": "code",
   "execution_count": 4,
   "metadata": {},
   "outputs": [
    {
     "name": "stdout",
     "output_type": "stream",
     "text": [
      "Epoch 1/80\n",
      "499/499 [==============================] - 5s 10ms/step - loss: 0.8618 - sparse_categorical_accuracy: 0.7429 - val_loss: 2.3786 - val_sparse_categorical_accuracy: 0.4370\n",
      "Epoch 2/80\n",
      "499/499 [==============================] - 4s 8ms/step - loss: 0.0578 - sparse_categorical_accuracy: 0.9832 - val_loss: 0.0198 - val_sparse_categorical_accuracy: 0.9952\n",
      "Epoch 3/80\n",
      "499/499 [==============================] - 4s 9ms/step - loss: 0.0422 - sparse_categorical_accuracy: 0.9873 - val_loss: 0.0192 - val_sparse_categorical_accuracy: 0.9935\n",
      "Epoch 4/80\n",
      "499/499 [==============================] - 4s 9ms/step - loss: 0.0377 - sparse_categorical_accuracy: 0.9895 - val_loss: 0.0215 - val_sparse_categorical_accuracy: 0.9955\n",
      "Epoch 5/80\n",
      "499/499 [==============================] - 4s 9ms/step - loss: 0.0189 - sparse_categorical_accuracy: 0.9950 - val_loss: 0.0212 - val_sparse_categorical_accuracy: 0.9960\n",
      "Epoch 6/80\n",
      "499/499 [==============================] - 4s 8ms/step - loss: 0.0193 - sparse_categorical_accuracy: 0.9938 - val_loss: 0.0547 - val_sparse_categorical_accuracy: 0.9875\n",
      "Epoch 7/80\n",
      "499/499 [==============================] - 4s 9ms/step - loss: 0.0258 - sparse_categorical_accuracy: 0.9920 - val_loss: 0.0232 - val_sparse_categorical_accuracy: 0.9940\n",
      "Epoch 8/80\n",
      "499/499 [==============================] - 4s 9ms/step - loss: 0.0239 - sparse_categorical_accuracy: 0.9929 - val_loss: 0.0217 - val_sparse_categorical_accuracy: 0.9952\n"
     ]
    }
   ],
   "source": [
    "history = model.fit(\n",
    "    X, \n",
    "    y,\n",
    "    batch_size = batch_size,\n",
    "    epochs = epochs,\n",
    "    validation_split = 0.2,\n",
    "    callbacks = [tf.keras.callbacks.EarlyStopping(monitor='val_loss', patience=5)]\n",
    ")"
   ]
  },
  {
   "cell_type": "code",
   "execution_count": 5,
   "metadata": {},
   "outputs": [
    {
     "data": {
      "image/png": "[encoded data removed]",
      "text/plain": [
       "<Figure size 576x360 with 1 Axes>"
      ]
     },
     "metadata": {
      "needs_background": "light"
     },
     "output_type": "display_data"
    }
   ],
   "source": [
    "import pandas as pd\n",
    "def plot_learning_curves(history):\n",
    "    df = pd.DataFrame(history.history)\n",
    "    df.plot(figsize=(8,5))\n",
    "    plt.grid(True)\n",
    "    plt.gca().set_ylim(0,1)\n",
    "    plt.show()\n",
    "    \n",
    "plot_learning_curves(history)"
   ]
  },
  {
   "cell_type": "code",
   "execution_count": 6,
   "metadata": {},
   "outputs": [
    {
     "data": {
      "text/plain": [
       "array([[1.3571890e-16, 1.0000000e+00, 2.1125309e-15, 2.8066321e-17,\n",
       "        4.9996202e-18, 8.7868667e-18, 1.2818274e-16, 1.5460787e-16,\n",
       "        1.4158070e-12]], dtype=float32)"
      ]
     },
     "execution_count": 6,
     "metadata": {},
     "output_type": "execute_result"
    },
    {
     "data": {
      "image/png": "[encoded data removed]",
      "text/plain": [
       "<Figure size 432x288 with 1 Axes>"
      ]
     },
     "metadata": {
      "needs_background": "light"
     },
     "output_type": "display_data"
    }
   ],
   "source": [
    "out = model.predict(np.expand_dims(X[5], 0))\n",
    "plt.imshow(X[5], cmap=plt.get_cmap('gray'))\n",
    "out"
   ]
  },
  {
   "cell_type": "code",
   "execution_count": 7,
   "metadata": {},
   "outputs": [],
   "source": [
    "model.save('model.h5')"
   ]
  },
  {
   "cell_type": "code",
   "execution_count": null,
   "metadata": {},
   "outputs": [],
   "source": [
    "import tensorflowjs as tfjs\n",
    "tfjs.converters.save_keras_model(model, 'model.json')"
   ]
  }
 ],
 "metadata": {
  "kernelspec": {
   "display_name": "Python 3",
   "language": "python",
   "name": "python3"
  },
  "language_info": {
   "codemirror_mode": {
    "name": "ipython",
    "version": 3
   },
   "file_extension": ".py",
   "mimetype": "text/x-python",
   "name": "python",
   "nbconvert_exporter": "python",
   "pygments_lexer": "ipython3",
   "version": "3.6.8"
  }
 },
 "nbformat": 4,
 "nbformat_minor": 4
}
