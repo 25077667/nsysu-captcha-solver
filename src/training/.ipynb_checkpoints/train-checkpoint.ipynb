{
 "cells": [
  {
   "cell_type": "code",
   "execution_count": 1,
   "metadata": {},
   "outputs": [
    {
     "name": "stdout",
     "output_type": "stream",
     "text": [
      "1.0\n"
     ]
    },
    {
     "data": {
      "image/png": "[encoded data removed]",
      "text/plain": [
       "<Figure size 432x288 with 1 Axes>"
      ]
     },
     "metadata": {
      "needs_background": "light"
     },
     "output_type": "display_data"
    }
   ],
   "source": [
    "import cv2\n",
    "import csv\n",
    "import random\n",
    "import numpy as np\n",
    "import matplotlib.pyplot as plt\n",
    "import tensorflow as tf\n",
    "\n",
    "encoding = '123456789'\n",
    "labels_file = 'labels.csv'\n",
    "\n",
    "img_list = []\n",
    "label_list = []\n",
    "\n",
    "with open(labels_file, newline='') as csvfile:\n",
    "    reader = csv.DictReader(csvfile)\n",
    "    fieldnames = reader.fieldnames\n",
    "    for row in reader:\n",
    "        img_list.append(row[fieldnames[0]])\n",
    "        label_list.append(encoding.index(row[fieldnames[1]]))\n",
    "    \n",
    "items=[]\n",
    "for i in range(len(img_list)):\n",
    "    items.append(i)\n",
    "X = []\n",
    "y = []\n",
    "for i in random.sample(items,len(img_list)):\n",
    "    img = cv2.imread(img_list[i], 0)\n",
    "    img = tf.keras.preprocessing.image.img_to_array(img)\n",
    "    X.append(img)\n",
    "    y.append(label_list[i])\n",
    "    \n",
    "X = 1 - np.array(X).astype(float)/255 # invert and scale\n",
    "y = np.array(y).astype(float)\n",
    "\n",
    "plt.imshow(X[0], cmap=plt.get_cmap('gray'))\n",
    "print(y[0])"
   ]
  },
  {
   "cell_type": "code",
   "execution_count": 2,
   "metadata": {},
   "outputs": [
    {
     "name": "stdout",
     "output_type": "stream",
     "text": [
      "Model: \"sequential\"\n",
      "_________________________________________________________________\n",
      "Layer (type)                 Output Shape              Param #   \n",
      "=================================================================\n",
      "conv2d (Conv2D)              (None, 22, 29, 32)        320       \n",
      "_________________________________________________________________\n",
      "batch_normalization (BatchNo (None, 22, 29, 32)        128       \n",
      "_________________________________________________________________\n",
      "max_pooling2d (MaxPooling2D) (None, 11, 14, 32)        0         \n",
      "_________________________________________________________________\n",
      "conv2d_1 (Conv2D)            (None, 9, 12, 64)         18496     \n",
      "_________________________________________________________________\n",
      "batch_normalization_1 (Batch (None, 9, 12, 64)         256       \n",
      "_________________________________________________________________\n",
      "max_pooling2d_1 (MaxPooling2 (None, 4, 6, 64)          0         \n",
      "_________________________________________________________________\n",
      "conv2d_2 (Conv2D)            (None, 2, 4, 128)         73856     \n",
      "_________________________________________________________________\n",
      "batch_normalization_2 (Batch (None, 2, 4, 128)         512       \n",
      "_________________________________________________________________\n",
      "flatten (Flatten)            (None, 1024)              0         \n",
      "_________________________________________________________________\n",
      "dropout (Dropout)            (None, 1024)              0         \n",
      "_________________________________________________________________\n",
      "dense (Dense)                (None, 128)               131200    \n",
      "_________________________________________________________________\n",
      "dropout_1 (Dropout)          (None, 128)               0         \n",
      "_________________________________________________________________\n",
      "dense_1 (Dense)              (None, 9)                 1161      \n",
      "=================================================================\n",
      "Total params: 225,929\n",
      "Trainable params: 225,481\n",
      "Non-trainable params: 448\n",
      "_________________________________________________________________\n"
     ]
    }
   ],
   "source": [
    "model = tf.keras.Sequential()\n",
    "model.add(tf.keras.layers.Conv2D(32, kernel_size=(3, 3), activation='relu', input_shape=(24, 31, 1)))\n",
    "model.add(tf.keras.layers.BatchNormalization())\n",
    "model.add(tf.keras.layers.MaxPooling2D(pool_size=(2, 2)))\n",
    "model.add(tf.keras.layers.Conv2D(64, (3, 3), activation='relu'))\n",
    "model.add(tf.keras.layers.BatchNormalization())\n",
    "model.add(tf.keras.layers.MaxPooling2D(pool_size=(2, 2)))\n",
    "model.add(tf.keras.layers.Conv2D(128, (3, 3), activation='relu'))\n",
    "model.add(tf.keras.layers.BatchNormalization())\n",
    "model.add(tf.keras.layers.Flatten())\n",
    "model.add(tf.keras.layers.Dropout(rate=0.25))\n",
    "model.add(tf.keras.layers.Dense(128, activation='relu'))\n",
    "model.add(tf.keras.layers.Dropout(rate=0.5))\n",
    "model.add(tf.keras.layers.Dense(9, activation='softmax'))\n",
    "model.summary()"
   ]
  },
  {
   "cell_type": "code",
   "execution_count": 3,
   "metadata": {},
   "outputs": [],
   "source": [
    "initial_learning_rate = 1e-3\n",
    "lr_schedule = tf.keras.optimizers.schedules.ExponentialDecay(\n",
    "    initial_learning_rate,\n",
    "    decay_steps=100000,\n",
    "    decay_rate=0.96,\n",
    "    staircase=True\n",
    ")\n",
    "model.compile(\n",
    "    loss=tf.keras.losses.SparseCategoricalCrossentropy(), \n",
    "    optimizer=tf.keras.optimizers.Adam(learning_rate=lr_schedule), \n",
    "    metrics=[tf.keras.metrics.SparseCategoricalAccuracy()]\n",
    ")\n",
    "batch_size = 32\n",
    "epochs = 80"
   ]
  },
  {
   "cell_type": "code",
   "execution_count": 4,
   "metadata": {},
   "outputs": [
    {
     "name": "stdout",
     "output_type": "stream",
     "text": [
      "Epoch 1/80\n",
      "116/116 [==============================] - 2s 13ms/step - loss: 1.9047 - sparse_categorical_accuracy: 0.4417 - val_loss: 3.2058 - val_sparse_categorical_accuracy: 0.1177\n",
      "Epoch 2/80\n",
      "116/116 [==============================] - 1s 9ms/step - loss: 0.2782 - sparse_categorical_accuracy: 0.9039 - val_loss: 7.8212 - val_sparse_categorical_accuracy: 0.1177\n",
      "Epoch 3/80\n",
      "116/116 [==============================] - 1s 9ms/step - loss: 0.1068 - sparse_categorical_accuracy: 0.9654 - val_loss: 7.9411 - val_sparse_categorical_accuracy: 0.1188\n",
      "Epoch 4/80\n",
      "116/116 [==============================] - 1s 9ms/step - loss: 0.0773 - sparse_categorical_accuracy: 0.9786 - val_loss: 2.5188 - val_sparse_categorical_accuracy: 0.4633\n",
      "Epoch 5/80\n",
      "116/116 [==============================] - 1s 9ms/step - loss: 0.0399 - sparse_categorical_accuracy: 0.9885 - val_loss: 0.6640 - val_sparse_categorical_accuracy: 0.8423\n",
      "Epoch 6/80\n",
      "116/116 [==============================] - 1s 9ms/step - loss: 0.0372 - sparse_categorical_accuracy: 0.9888 - val_loss: 0.1974 - val_sparse_categorical_accuracy: 0.9536\n",
      "Epoch 7/80\n",
      "116/116 [==============================] - 1s 9ms/step - loss: 0.0341 - sparse_categorical_accuracy: 0.9911 - val_loss: 0.1156 - val_sparse_categorical_accuracy: 0.9557\n",
      "Epoch 8/80\n",
      "116/116 [==============================] - 1s 9ms/step - loss: 0.0431 - sparse_categorical_accuracy: 0.9852 - val_loss: 0.0506 - val_sparse_categorical_accuracy: 0.9892\n",
      "Epoch 9/80\n",
      "116/116 [==============================] - 1s 9ms/step - loss: 0.0266 - sparse_categorical_accuracy: 0.9917 - val_loss: 0.0411 - val_sparse_categorical_accuracy: 0.9860\n",
      "Epoch 10/80\n",
      "116/116 [==============================] - 1s 9ms/step - loss: 0.0155 - sparse_categorical_accuracy: 0.9965 - val_loss: 0.0348 - val_sparse_categorical_accuracy: 0.9914\n",
      "Epoch 11/80\n",
      "116/116 [==============================] - 1s 9ms/step - loss: 0.0149 - sparse_categorical_accuracy: 0.9948 - val_loss: 0.0372 - val_sparse_categorical_accuracy: 0.9881\n",
      "Epoch 12/80\n",
      "116/116 [==============================] - 1s 9ms/step - loss: 0.0147 - sparse_categorical_accuracy: 0.9947 - val_loss: 0.0650 - val_sparse_categorical_accuracy: 0.9838\n",
      "Epoch 13/80\n",
      "116/116 [==============================] - 1s 9ms/step - loss: 0.0247 - sparse_categorical_accuracy: 0.9929 - val_loss: 0.0340 - val_sparse_categorical_accuracy: 0.9903\n",
      "Epoch 14/80\n",
      "116/116 [==============================] - 1s 9ms/step - loss: 0.0196 - sparse_categorical_accuracy: 0.9927 - val_loss: 0.0427 - val_sparse_categorical_accuracy: 0.9881\n",
      "Epoch 15/80\n",
      "116/116 [==============================] - 1s 9ms/step - loss: 0.0197 - sparse_categorical_accuracy: 0.9947 - val_loss: 0.0374 - val_sparse_categorical_accuracy: 0.9903\n",
      "Epoch 16/80\n",
      "116/116 [==============================] - 1s 9ms/step - loss: 0.0111 - sparse_categorical_accuracy: 0.9961 - val_loss: 0.0590 - val_sparse_categorical_accuracy: 0.9870\n",
      "Epoch 17/80\n",
      "116/116 [==============================] - 1s 9ms/step - loss: 0.0153 - sparse_categorical_accuracy: 0.9935 - val_loss: 0.0458 - val_sparse_categorical_accuracy: 0.9924\n",
      "Epoch 18/80\n",
      "116/116 [==============================] - 1s 9ms/step - loss: 0.0137 - sparse_categorical_accuracy: 0.9942 - val_loss: 0.0640 - val_sparse_categorical_accuracy: 0.9892\n",
      "Epoch 19/80\n",
      "116/116 [==============================] - 1s 9ms/step - loss: 0.0128 - sparse_categorical_accuracy: 0.9959 - val_loss: 0.0557 - val_sparse_categorical_accuracy: 0.9849\n",
      "Epoch 20/80\n",
      "116/116 [==============================] - 1s 9ms/step - loss: 0.0124 - sparse_categorical_accuracy: 0.9965 - val_loss: 0.0330 - val_sparse_categorical_accuracy: 0.9914\n",
      "Epoch 21/80\n",
      "116/116 [==============================] - 1s 9ms/step - loss: 0.0253 - sparse_categorical_accuracy: 0.9945 - val_loss: 0.1237 - val_sparse_categorical_accuracy: 0.9719\n",
      "Epoch 22/80\n",
      "116/116 [==============================] - 1s 9ms/step - loss: 0.0213 - sparse_categorical_accuracy: 0.9935 - val_loss: 0.0398 - val_sparse_categorical_accuracy: 0.9903\n",
      "Epoch 23/80\n",
      "116/116 [==============================] - 1s 9ms/step - loss: 0.0072 - sparse_categorical_accuracy: 0.9977 - val_loss: 0.0553 - val_sparse_categorical_accuracy: 0.9870\n",
      "Epoch 24/80\n",
      "116/116 [==============================] - 1s 9ms/step - loss: 0.0062 - sparse_categorical_accuracy: 0.9979 - val_loss: 0.0465 - val_sparse_categorical_accuracy: 0.9881\n",
      "Epoch 25/80\n",
      "116/116 [==============================] - 1s 9ms/step - loss: 0.0161 - sparse_categorical_accuracy: 0.9949 - val_loss: 0.1545 - val_sparse_categorical_accuracy: 0.9784\n",
      "Epoch 26/80\n",
      "116/116 [==============================] - 1s 9ms/step - loss: 0.0182 - sparse_categorical_accuracy: 0.9933 - val_loss: 0.0735 - val_sparse_categorical_accuracy: 0.9795\n",
      "Epoch 27/80\n",
      "116/116 [==============================] - 1s 9ms/step - loss: 0.0170 - sparse_categorical_accuracy: 0.9944 - val_loss: 0.0525 - val_sparse_categorical_accuracy: 0.9935\n",
      "Epoch 28/80\n",
      "116/116 [==============================] - 1s 9ms/step - loss: 0.0151 - sparse_categorical_accuracy: 0.9942 - val_loss: 0.0651 - val_sparse_categorical_accuracy: 0.9849\n",
      "Epoch 29/80\n",
      "116/116 [==============================] - 1s 9ms/step - loss: 0.0059 - sparse_categorical_accuracy: 0.9989 - val_loss: 0.0327 - val_sparse_categorical_accuracy: 0.9935\n",
      "Epoch 30/80\n",
      "116/116 [==============================] - 1s 10ms/step - loss: 0.0030 - sparse_categorical_accuracy: 0.9985 - val_loss: 0.0351 - val_sparse_categorical_accuracy: 0.9946\n",
      "Epoch 31/80\n",
      "116/116 [==============================] - 1s 9ms/step - loss: 0.0034 - sparse_categorical_accuracy: 0.9991 - val_loss: 0.0284 - val_sparse_categorical_accuracy: 0.9946\n",
      "Epoch 32/80\n",
      "116/116 [==============================] - 1s 9ms/step - loss: 0.0112 - sparse_categorical_accuracy: 0.9945 - val_loss: 0.0687 - val_sparse_categorical_accuracy: 0.9881\n",
      "Epoch 33/80\n",
      "116/116 [==============================] - 1s 9ms/step - loss: 0.0067 - sparse_categorical_accuracy: 0.9985 - val_loss: 0.0536 - val_sparse_categorical_accuracy: 0.9903\n",
      "Epoch 34/80\n",
      "116/116 [==============================] - 1s 9ms/step - loss: 0.0074 - sparse_categorical_accuracy: 0.9974 - val_loss: 0.0976 - val_sparse_categorical_accuracy: 0.9806\n",
      "Epoch 35/80\n",
      "116/116 [==============================] - 1s 9ms/step - loss: 0.0239 - sparse_categorical_accuracy: 0.9929 - val_loss: 0.0630 - val_sparse_categorical_accuracy: 0.9892\n",
      "Epoch 36/80\n",
      "116/116 [==============================] - 1s 9ms/step - loss: 0.0230 - sparse_categorical_accuracy: 0.9926 - val_loss: 0.0669 - val_sparse_categorical_accuracy: 0.9870\n",
      "Epoch 37/80\n",
      "116/116 [==============================] - 1s 9ms/step - loss: 0.0161 - sparse_categorical_accuracy: 0.9969 - val_loss: 0.0673 - val_sparse_categorical_accuracy: 0.9849\n",
      "Epoch 38/80\n",
      "116/116 [==============================] - 1s 9ms/step - loss: 0.0095 - sparse_categorical_accuracy: 0.9975 - val_loss: 0.0223 - val_sparse_categorical_accuracy: 0.9957\n",
      "Epoch 39/80\n",
      "116/116 [==============================] - 1s 9ms/step - loss: 0.0020 - sparse_categorical_accuracy: 0.9993 - val_loss: 0.0231 - val_sparse_categorical_accuracy: 0.9957\n",
      "Epoch 40/80\n",
      "116/116 [==============================] - 1s 9ms/step - loss: 0.0012 - sparse_categorical_accuracy: 0.9997 - val_loss: 0.0279 - val_sparse_categorical_accuracy: 0.9957\n",
      "Epoch 41/80\n",
      "116/116 [==============================] - 1s 9ms/step - loss: 0.0066 - sparse_categorical_accuracy: 0.9985 - val_loss: 0.0300 - val_sparse_categorical_accuracy: 0.9957\n",
      "Epoch 42/80\n",
      "116/116 [==============================] - 1s 9ms/step - loss: 0.0046 - sparse_categorical_accuracy: 0.9976 - val_loss: 0.0430 - val_sparse_categorical_accuracy: 0.9935\n",
      "Epoch 43/80\n",
      "116/116 [==============================] - 1s 9ms/step - loss: 0.0040 - sparse_categorical_accuracy: 0.9991 - val_loss: 0.0350 - val_sparse_categorical_accuracy: 0.9914\n",
      "Epoch 44/80\n",
      "116/116 [==============================] - 1s 9ms/step - loss: 0.0123 - sparse_categorical_accuracy: 0.9945 - val_loss: 0.0224 - val_sparse_categorical_accuracy: 0.9968\n",
      "Epoch 45/80\n",
      "116/116 [==============================] - 1s 9ms/step - loss: 0.0046 - sparse_categorical_accuracy: 0.9988 - val_loss: 0.0422 - val_sparse_categorical_accuracy: 0.9914\n",
      "Epoch 46/80\n",
      "116/116 [==============================] - 1s 9ms/step - loss: 0.0116 - sparse_categorical_accuracy: 0.9961 - val_loss: 0.0810 - val_sparse_categorical_accuracy: 0.9870\n",
      "Epoch 47/80\n",
      "116/116 [==============================] - 1s 9ms/step - loss: 0.0307 - sparse_categorical_accuracy: 0.9947 - val_loss: 0.0451 - val_sparse_categorical_accuracy: 0.9914\n",
      "Epoch 48/80\n",
      "116/116 [==============================] - 1s 9ms/step - loss: 0.0196 - sparse_categorical_accuracy: 0.9941 - val_loss: 0.0476 - val_sparse_categorical_accuracy: 0.9903\n"
     ]
    }
   ],
   "source": [
    "history = model.fit(\n",
    "    X, \n",
    "    y,\n",
    "    batch_size = batch_size,\n",
    "    epochs = epochs,\n",
    "    validation_split = 0.2,\n",
    "    callbacks = [tf.keras.callbacks.EarlyStopping(monitor='val_loss', patience=7)]\n",
    ")"
   ]
  },
  {
   "cell_type": "code",
   "execution_count": 5,
   "metadata": {},
   "outputs": [
    {
     "data": {
      "image/png": "[encoded data removed]",
      "text/plain": [
       "<Figure size 576x360 with 1 Axes>"
      ]
     },
     "metadata": {
      "needs_background": "light"
     },
     "output_type": "display_data"
    }
   ],
   "source": [
    "import pandas as pd\n",
    "def plot_learning_curves(history):\n",
    "    df = pd.DataFrame(history.history)\n",
    "    df.plot(figsize=(8,5))\n",
    "    plt.grid(True)\n",
    "    plt.gca().set_ylim(0,1)\n",
    "    plt.show()\n",
    "    \n",
    "plot_learning_curves(history)"
   ]
  },
  {
   "cell_type": "code",
   "execution_count": 6,
   "metadata": {},
   "outputs": [
    {
     "data": {
      "text/plain": [
       "array([[2.0646592e-13, 1.8331385e-15, 8.2578614e-12, 4.7082016e-13,\n",
       "        1.7246579e-15, 7.9966216e-12, 6.9852277e-16, 1.0000000e+00,\n",
       "        8.1050626e-12]], dtype=float32)"
      ]
     },
     "execution_count": 6,
     "metadata": {},
     "output_type": "execute_result"
    },
    {
     "data": {
      "image/png": "[encoded data removed]",
      "text/plain": [
       "<Figure size 432x288 with 1 Axes>"
      ]
     },
     "metadata": {
      "needs_background": "light"
     },
     "output_type": "display_data"
    }
   ],
   "source": [
    "out = model.predict(np.expand_dims(X[5], 0))\n",
    "plt.imshow(X[5], cmap=plt.get_cmap('gray'))\n",
    "out"
   ]
  },
  {
   "cell_type": "code",
   "execution_count": 7,
   "metadata": {},
   "outputs": [],
   "source": [
    "model.save('model.h5')"
   ]
  },
  {
   "cell_type": "code",
   "execution_count": null,
   "metadata": {},
   "outputs": [],
   "source": []
  }
 ],
 "metadata": {
  "kernelspec": {
   "display_name": "Python 3",
   "language": "python",
   "name": "python3"
  },
  "language_info": {
   "codemirror_mode": {
    "name": "ipython",
    "version": 3
   },
   "file_extension": ".py",
   "mimetype": "text/x-python",
   "name": "python",
   "nbconvert_exporter": "python",
   "pygments_lexer": "ipython3",
   "version": "3.6.8"
  }
 },
 "nbformat": 4,
 "nbformat_minor": 4
}
