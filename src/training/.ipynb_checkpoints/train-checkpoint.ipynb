{
 "cells": [
  {
   "cell_type": "code",
   "execution_count": 1,
   "metadata": {},
   "outputs": [
    {
     "name": "stdout",
     "output_type": "stream",
     "text": [
      "1.0\n"
     ]
    },
    {
     "data": {
      "image/png": "[encoded data removed]",
      "text/plain": [
       "<Figure size 432x288 with 1 Axes>"
      ]
     },
     "metadata": {
      "needs_background": "light"
     },
     "output_type": "display_data"
    }
   ],
   "source": [
    "import cv2\n",
    "import csv\n",
    "import random\n",
    "import numpy as np\n",
    "import matplotlib.pyplot as plt\n",
    "import tensorflow as tf\n",
    "\n",
    "encoding = '123456789'\n",
    "labels_file = 'labels.csv'\n",
    "\n",
    "img_list = []\n",
    "label_list = []\n",
    "\n",
    "with open(labels_file, newline='') as csvfile:\n",
    "    reader = csv.DictReader(csvfile)\n",
    "    fieldnames = reader.fieldnames\n",
    "    for row in reader:\n",
    "        img_list.append(row[fieldnames[0]])\n",
    "        label_list.append(encoding.index(row[fieldnames[1]]))\n",
    "    \n",
    "items=[]\n",
    "for i in range(len(img_list)):\n",
    "    items.append(i)\n",
    "X = []\n",
    "y = []\n",
    "for i in random.sample(items,len(img_list)):\n",
    "    img = cv2.imread(img_list[i], 0)\n",
    "    img = tf.keras.preprocessing.image.img_to_array(img)\n",
    "    X.append(img)\n",
    "    y.append(label_list[i])\n",
    "    \n",
    "X = 1 - np.array(X).astype(float)/255 # invert and scale\n",
    "y = np.array(y).astype(float)\n",
    "\n",
    "plt.imshow(X[0], cmap=plt.get_cmap('gray'))\n",
    "print(y[0])"
   ]
  },
  {
   "cell_type": "code",
   "execution_count": 2,
   "metadata": {},
   "outputs": [
    {
     "name": "stdout",
     "output_type": "stream",
     "text": [
      "Model: \"sequential\"\n",
      "_________________________________________________________________\n",
      "Layer (type)                 Output Shape              Param #   \n",
      "=================================================================\n",
      "conv2d (Conv2D)              (None, 22, 29, 32)        320       \n",
      "_________________________________________________________________\n",
      "batch_normalization (BatchNo (None, 22, 29, 32)        128       \n",
      "_________________________________________________________________\n",
      "max_pooling2d (MaxPooling2D) (None, 11, 14, 32)        0         \n",
      "_________________________________________________________________\n",
      "conv2d_1 (Conv2D)            (None, 9, 12, 64)         18496     \n",
      "_________________________________________________________________\n",
      "batch_normalization_1 (Batch (None, 9, 12, 64)         256       \n",
      "_________________________________________________________________\n",
      "max_pooling2d_1 (MaxPooling2 (None, 4, 6, 64)          0         \n",
      "_________________________________________________________________\n",
      "conv2d_2 (Conv2D)            (None, 2, 4, 128)         73856     \n",
      "_________________________________________________________________\n",
      "batch_normalization_2 (Batch (None, 2, 4, 128)         512       \n",
      "_________________________________________________________________\n",
      "flatten (Flatten)            (None, 1024)              0         \n",
      "_________________________________________________________________\n",
      "dropout (Dropout)            (None, 1024)              0         \n",
      "_________________________________________________________________\n",
      "dense (Dense)                (None, 128)               131200    \n",
      "_________________________________________________________________\n",
      "dropout_1 (Dropout)          (None, 128)               0         \n",
      "_________________________________________________________________\n",
      "dense_1 (Dense)              (None, 9)                 1161      \n",
      "=================================================================\n",
      "Total params: 225,929\n",
      "Trainable params: 225,481\n",
      "Non-trainable params: 448\n",
      "_________________________________________________________________\n"
     ]
    }
   ],
   "source": [
    "model = tf.keras.Sequential()\n",
    "model.add(tf.keras.layers.Conv2D(32, kernel_size=(3, 3), activation='relu', input_shape=(24, 31, 1)))\n",
    "model.add(tf.keras.layers.BatchNormalization())\n",
    "model.add(tf.keras.layers.MaxPooling2D(pool_size=(2, 2)))\n",
    "model.add(tf.keras.layers.Conv2D(64, (3, 3), activation='relu'))\n",
    "model.add(tf.keras.layers.BatchNormalization())\n",
    "model.add(tf.keras.layers.MaxPooling2D(pool_size=(2, 2)))\n",
    "model.add(tf.keras.layers.Conv2D(128, (3, 3), activation='relu'))\n",
    "model.add(tf.keras.layers.BatchNormalization())\n",
    "model.add(tf.keras.layers.Flatten())\n",
    "model.add(tf.keras.layers.Dropout(rate=0.25))\n",
    "model.add(tf.keras.layers.Dense(128, activation='relu'))\n",
    "model.add(tf.keras.layers.Dropout(rate=0.5))\n",
    "model.add(tf.keras.layers.Dense(9, activation='softmax'))\n",
    "model.summary()"
   ]
  },
  {
   "cell_type": "code",
   "execution_count": 3,
   "metadata": {},
   "outputs": [],
   "source": [
    "initial_learning_rate = 1e-3\n",
    "lr_schedule = tf.keras.optimizers.schedules.ExponentialDecay(\n",
    "    initial_learning_rate,\n",
    "    decay_steps=100000,\n",
    "    decay_rate=0.96,\n",
    "    staircase=True\n",
    ")\n",
    "model.compile(\n",
    "    loss=tf.keras.losses.SparseCategoricalCrossentropy(), \n",
    "    optimizer=tf.keras.optimizers.Adam(learning_rate=lr_schedule), \n",
    "    metrics=[tf.keras.metrics.SparseCategoricalAccuracy()]\n",
    ")\n",
    "batch_size = 32\n",
    "epochs = 80"
   ]
  },
  {
   "cell_type": "code",
   "execution_count": 4,
   "metadata": {},
   "outputs": [
    {
     "name": "stdout",
     "output_type": "stream",
     "text": [
      "Epoch 1/80\n",
      "191/191 [==============================] - 3s 12ms/step - loss: 1.5079 - sparse_categorical_accuracy: 0.5650 - val_loss: 8.6943 - val_sparse_categorical_accuracy: 0.1165\n",
      "Epoch 2/80\n",
      "191/191 [==============================] - 2s 9ms/step - loss: 0.1509 - sparse_categorical_accuracy: 0.9515 - val_loss: 8.9005 - val_sparse_categorical_accuracy: 0.1257\n",
      "Epoch 3/80\n",
      "191/191 [==============================] - 2s 9ms/step - loss: 0.0661 - sparse_categorical_accuracy: 0.9765 - val_loss: 0.5453 - val_sparse_categorical_accuracy: 0.8384\n",
      "Epoch 4/80\n",
      "191/191 [==============================] - 2s 9ms/step - loss: 0.0532 - sparse_categorical_accuracy: 0.9842 - val_loss: 0.0384 - val_sparse_categorical_accuracy: 0.9895\n",
      "Epoch 5/80\n",
      "191/191 [==============================] - 2s 9ms/step - loss: 0.0324 - sparse_categorical_accuracy: 0.9898 - val_loss: 0.0623 - val_sparse_categorical_accuracy: 0.9869\n",
      "Epoch 6/80\n",
      "191/191 [==============================] - 2s 9ms/step - loss: 0.0384 - sparse_categorical_accuracy: 0.9888 - val_loss: 0.0452 - val_sparse_categorical_accuracy: 0.9915\n",
      "Epoch 7/80\n",
      "191/191 [==============================] - 2s 9ms/step - loss: 0.0169 - sparse_categorical_accuracy: 0.9948 - val_loss: 0.0450 - val_sparse_categorical_accuracy: 0.9915\n",
      "Epoch 8/80\n",
      "191/191 [==============================] - 2s 9ms/step - loss: 0.0116 - sparse_categorical_accuracy: 0.9971 - val_loss: 0.0321 - val_sparse_categorical_accuracy: 0.9954\n",
      "Epoch 9/80\n",
      "191/191 [==============================] - 2s 9ms/step - loss: 0.0105 - sparse_categorical_accuracy: 0.9977 - val_loss: 0.0543 - val_sparse_categorical_accuracy: 0.9928\n",
      "Epoch 10/80\n",
      "191/191 [==============================] - 2s 9ms/step - loss: 0.0211 - sparse_categorical_accuracy: 0.9937 - val_loss: 0.0832 - val_sparse_categorical_accuracy: 0.9830\n",
      "Epoch 11/80\n",
      "191/191 [==============================] - 2s 9ms/step - loss: 0.0222 - sparse_categorical_accuracy: 0.9925 - val_loss: 0.0684 - val_sparse_categorical_accuracy: 0.9856\n",
      "Epoch 12/80\n",
      "191/191 [==============================] - 2s 9ms/step - loss: 0.0148 - sparse_categorical_accuracy: 0.9956 - val_loss: 0.0538 - val_sparse_categorical_accuracy: 0.9935\n",
      "Epoch 13/80\n",
      "191/191 [==============================] - 2s 9ms/step - loss: 0.0335 - sparse_categorical_accuracy: 0.9920 - val_loss: 0.0481 - val_sparse_categorical_accuracy: 0.9915\n",
      "Epoch 14/80\n",
      "191/191 [==============================] - 2s 9ms/step - loss: 0.0223 - sparse_categorical_accuracy: 0.9948 - val_loss: 0.0546 - val_sparse_categorical_accuracy: 0.9915\n",
      "Epoch 15/80\n",
      "191/191 [==============================] - 2s 9ms/step - loss: 0.0132 - sparse_categorical_accuracy: 0.9952 - val_loss: 0.0507 - val_sparse_categorical_accuracy: 0.9941\n"
     ]
    }
   ],
   "source": [
    "history = model.fit(\n",
    "    X, \n",
    "    y,\n",
    "    batch_size = batch_size,\n",
    "    epochs = epochs,\n",
    "    validation_split = 0.2,\n",
    "    callbacks = [tf.keras.callbacks.EarlyStopping(monitor='val_loss', patience=7)]\n",
    ")"
   ]
  },
  {
   "cell_type": "code",
   "execution_count": 5,
   "metadata": {},
   "outputs": [
    {
     "data": {
      "image/png": "[encoded data removed]",
      "text/plain": [
       "<Figure size 576x360 with 1 Axes>"
      ]
     },
     "metadata": {
      "needs_background": "light"
     },
     "output_type": "display_data"
    }
   ],
   "source": [
    "import pandas as pd\n",
    "def plot_learning_curves(history):\n",
    "    df = pd.DataFrame(history.history)\n",
    "    df.plot(figsize=(8,5))\n",
    "    plt.grid(True)\n",
    "    plt.gca().set_ylim(0,1)\n",
    "    plt.show()\n",
    "    \n",
    "plot_learning_curves(history)"
   ]
  },
  {
   "cell_type": "code",
   "execution_count": 6,
   "metadata": {},
   "outputs": [
    {
     "data": {
      "text/plain": [
       "array([[1.0000000e+00, 2.8621110e-15, 1.4528277e-16, 1.7205180e-15,\n",
       "        1.4863107e-16, 1.3321759e-19, 3.3794024e-19, 4.5027313e-23,\n",
       "        1.5125043e-19]], dtype=float32)"
      ]
     },
     "execution_count": 6,
     "metadata": {},
     "output_type": "execute_result"
    },
    {
     "data": {
      "image/png": "[encoded data removed]",
      "text/plain": [
       "<Figure size 432x288 with 1 Axes>"
      ]
     },
     "metadata": {
      "needs_background": "light"
     },
     "output_type": "display_data"
    }
   ],
   "source": [
    "out = model.predict(np.expand_dims(X[5], 0))\n",
    "plt.imshow(X[5], cmap=plt.get_cmap('gray'))\n",
    "out"
   ]
  },
  {
   "cell_type": "code",
   "execution_count": 7,
   "metadata": {},
   "outputs": [],
   "source": [
    "model.save('model.h5')"
   ]
  },
  {
   "cell_type": "code",
   "execution_count": null,
   "metadata": {},
   "outputs": [],
   "source": []
  }
 ],
 "metadata": {
  "kernelspec": {
   "display_name": "Python 3",
   "language": "python",
   "name": "python3"
  },
  "language_info": {
   "codemirror_mode": {
    "name": "ipython",
    "version": 3
   },
   "file_extension": ".py",
   "mimetype": "text/x-python",
   "name": "python",
   "nbconvert_exporter": "python",
   "pygments_lexer": "ipython3",
   "version": "3.6.8"
  }
 },
 "nbformat": 4,
 "nbformat_minor": 4
}
