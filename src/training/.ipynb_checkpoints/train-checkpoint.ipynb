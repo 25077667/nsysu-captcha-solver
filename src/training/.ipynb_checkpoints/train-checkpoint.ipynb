{
 "cells": [
  {
   "cell_type": "code",
   "execution_count": 1,
   "metadata": {},
   "outputs": [
    {
     "name": "stdout",
     "output_type": "stream",
     "text": [
      "1.0\n"
     ]
    },
    {
     "data": {
      "image/png": "[encoded data removed]",
      "text/plain": [
       "<Figure size 432x288 with 1 Axes>"
      ]
     },
     "metadata": {
      "needs_background": "light"
     },
     "output_type": "display_data"
    }
   ],
   "source": [
    "import cv2\n",
    "import csv\n",
    "import random\n",
    "import numpy as np\n",
    "import matplotlib.pyplot as plt\n",
    "import tensorflow as tf\n",
    "\n",
    "encoding = '123456789'\n",
    "labels_file = 'labels.csv'\n",
    "\n",
    "img_list = []\n",
    "label_list = []\n",
    "\n",
    "with open(labels_file, newline='') as csvfile:\n",
    "    reader = csv.DictReader(csvfile)\n",
    "    fieldnames = reader.fieldnames\n",
    "    for row in reader:\n",
    "        img_list.append(row[fieldnames[0]])\n",
    "        label_list.append(encoding.index(row[fieldnames[1]]))\n",
    "    \n",
    "items=[]\n",
    "for i in range(len(img_list)):\n",
    "    items.append(i)\n",
    "X = []\n",
    "y = []\n",
    "for i in random.sample(items,len(img_list)):\n",
    "    img = cv2.imread(img_list[i], 0)\n",
    "    img = tf.keras.preprocessing.image.img_to_array(img)\n",
    "    X.append(img)\n",
    "    y.append(label_list[i])\n",
    "    \n",
    "X = 1 - np.array(X).astype(float)/255 # invert and scale\n",
    "y = np.array(y).astype(float)\n",
    "\n",
    "plt.imshow(X[0], cmap=plt.get_cmap('gray'))\n",
    "print(y[0])"
   ]
  },
  {
   "cell_type": "code",
   "execution_count": 2,
   "metadata": {},
   "outputs": [
    {
     "name": "stdout",
     "output_type": "stream",
     "text": [
      "Model: \"sequential\"\n",
      "_________________________________________________________________\n",
      "Layer (type)                 Output Shape              Param #   \n",
      "=================================================================\n",
      "conv2d (Conv2D)              (None, 22, 29, 32)        320       \n",
      "_________________________________________________________________\n",
      "batch_normalization (BatchNo (None, 22, 29, 32)        128       \n",
      "_________________________________________________________________\n",
      "max_pooling2d (MaxPooling2D) (None, 11, 14, 32)        0         \n",
      "_________________________________________________________________\n",
      "conv2d_1 (Conv2D)            (None, 9, 12, 64)         18496     \n",
      "_________________________________________________________________\n",
      "batch_normalization_1 (Batch (None, 9, 12, 64)         256       \n",
      "_________________________________________________________________\n",
      "max_pooling2d_1 (MaxPooling2 (None, 4, 6, 64)          0         \n",
      "_________________________________________________________________\n",
      "conv2d_2 (Conv2D)            (None, 2, 4, 128)         73856     \n",
      "_________________________________________________________________\n",
      "batch_normalization_2 (Batch (None, 2, 4, 128)         512       \n",
      "_________________________________________________________________\n",
      "flatten (Flatten)            (None, 1024)              0         \n",
      "_________________________________________________________________\n",
      "dropout (Dropout)            (None, 1024)              0         \n",
      "_________________________________________________________________\n",
      "dense (Dense)                (None, 128)               131200    \n",
      "_________________________________________________________________\n",
      "dropout_1 (Dropout)          (None, 128)               0         \n",
      "_________________________________________________________________\n",
      "dense_1 (Dense)              (None, 9)                 1161      \n",
      "=================================================================\n",
      "Total params: 225,929\n",
      "Trainable params: 225,481\n",
      "Non-trainable params: 448\n",
      "_________________________________________________________________\n"
     ]
    }
   ],
   "source": [
    "model = tf.keras.Sequential()\n",
    "model.add(tf.keras.layers.Conv2D(32, kernel_size=(3, 3), activation='relu', input_shape=(24, 31, 1)))\n",
    "model.add(tf.keras.layers.BatchNormalization())\n",
    "model.add(tf.keras.layers.MaxPooling2D(pool_size=(2, 2)))\n",
    "model.add(tf.keras.layers.Conv2D(64, (3, 3), activation='relu'))\n",
    "model.add(tf.keras.layers.BatchNormalization())\n",
    "model.add(tf.keras.layers.MaxPooling2D(pool_size=(2, 2)))\n",
    "model.add(tf.keras.layers.Conv2D(128, (3, 3), activation='relu'))\n",
    "model.add(tf.keras.layers.BatchNormalization())\n",
    "model.add(tf.keras.layers.Flatten())\n",
    "model.add(tf.keras.layers.Dropout(rate=0.25))\n",
    "model.add(tf.keras.layers.Dense(128, activation='relu'))\n",
    "model.add(tf.keras.layers.Dropout(rate=0.5))\n",
    "model.add(tf.keras.layers.Dense(9, activation='softmax'))\n",
    "model.summary()"
   ]
  },
  {
   "cell_type": "code",
   "execution_count": 3,
   "metadata": {},
   "outputs": [],
   "source": [
    "initial_learning_rate = 1e-3\n",
    "lr_schedule = tf.keras.optimizers.schedules.ExponentialDecay(\n",
    "    initial_learning_rate,\n",
    "    decay_steps=100000,\n",
    "    decay_rate=0.96,\n",
    "    staircase=True\n",
    ")\n",
    "model.compile(\n",
    "    loss=tf.keras.losses.SparseCategoricalCrossentropy(), \n",
    "    optimizer=tf.keras.optimizers.Adam(learning_rate=lr_schedule), \n",
    "    metrics=[tf.keras.metrics.SparseCategoricalAccuracy()]\n",
    ")\n",
    "batch_size = 32\n",
    "epochs = 80"
   ]
  },
  {
   "cell_type": "code",
   "execution_count": null,
   "metadata": {},
   "outputs": [
    {
     "name": "stdout",
     "output_type": "stream",
     "text": [
      "Epoch 1/80\n",
      "82/82 [==============================] - 2s 16ms/step - loss: 2.5839 - sparse_categorical_accuracy: 0.4712 - val_loss: 26.7803 - val_sparse_categorical_accuracy: 0.1300\n",
      "Epoch 2/80\n",
      "82/82 [==============================] - 1s 9ms/step - loss: 0.3100 - sparse_categorical_accuracy: 0.9039 - val_loss: 85.7298 - val_sparse_categorical_accuracy: 0.1300\n",
      "Epoch 3/80\n",
      "82/82 [==============================] - 1s 9ms/step - loss: 0.2205 - sparse_categorical_accuracy: 0.9392 - val_loss: 51.7107 - val_sparse_categorical_accuracy: 0.1422\n",
      "Epoch 4/80\n",
      "82/82 [==============================] - 1s 9ms/step - loss: 0.1478 - sparse_categorical_accuracy: 0.9550 - val_loss: 24.9351 - val_sparse_categorical_accuracy: 0.2416\n",
      "Epoch 5/80\n",
      "82/82 [==============================] - 1s 9ms/step - loss: 0.1516 - sparse_categorical_accuracy: 0.9599 - val_loss: 2.2365 - val_sparse_categorical_accuracy: 0.7768\n",
      "Epoch 6/80\n",
      "82/82 [==============================] - 1s 9ms/step - loss: 0.1544 - sparse_categorical_accuracy: 0.9609 - val_loss: 0.5826 - val_sparse_categorical_accuracy: 0.9128\n",
      "Epoch 7/80\n",
      "82/82 [==============================] - 1s 9ms/step - loss: 0.1731 - sparse_categorical_accuracy: 0.9582 - val_loss: 1.2020 - val_sparse_categorical_accuracy: 0.7446\n",
      "Epoch 8/80\n",
      "82/82 [==============================] - 1s 9ms/step - loss: 0.1927 - sparse_categorical_accuracy: 0.9523 - val_loss: 0.0934 - val_sparse_categorical_accuracy: 0.9801\n",
      "Epoch 9/80\n",
      "82/82 [==============================] - 1s 9ms/step - loss: 0.1654 - sparse_categorical_accuracy: 0.9646 - val_loss: 1.9104 - val_sparse_categorical_accuracy: 0.7737\n",
      "Epoch 10/80\n",
      "82/82 [==============================] - 1s 10ms/step - loss: 0.2780 - sparse_categorical_accuracy: 0.9462 - val_loss: 0.1091 - val_sparse_categorical_accuracy: 0.9740\n",
      "Epoch 11/80\n",
      "82/82 [==============================] - 1s 9ms/step - loss: 0.1427 - sparse_categorical_accuracy: 0.9706 - val_loss: 0.0511 - val_sparse_categorical_accuracy: 0.9878\n",
      "Epoch 12/80\n",
      "82/82 [==============================] - 1s 9ms/step - loss: 0.0862 - sparse_categorical_accuracy: 0.9811 - val_loss: 0.0268 - val_sparse_categorical_accuracy: 0.9908\n",
      "Epoch 13/80\n",
      "82/82 [==============================] - 1s 9ms/step - loss: 0.0437 - sparse_categorical_accuracy: 0.9922 - val_loss: 0.0577 - val_sparse_categorical_accuracy: 0.9893\n",
      "Epoch 14/80\n",
      "82/82 [==============================] - 1s 9ms/step - loss: 0.1024 - sparse_categorical_accuracy: 0.9799 - val_loss: 0.3798 - val_sparse_categorical_accuracy: 0.9511\n",
      "Epoch 15/80\n",
      "82/82 [==============================] - 1s 9ms/step - loss: 0.1524 - sparse_categorical_accuracy: 0.9753 - val_loss: 0.0303 - val_sparse_categorical_accuracy: 0.9924\n",
      "Epoch 16/80\n",
      "82/82 [==============================] - 1s 9ms/step - loss: 0.0933 - sparse_categorical_accuracy: 0.9834 - val_loss: 0.0320 - val_sparse_categorical_accuracy: 0.9908\n",
      "Epoch 17/80\n",
      "82/82 [==============================] - 1s 9ms/step - loss: 0.1041 - sparse_categorical_accuracy: 0.9785 - val_loss: 0.0318 - val_sparse_categorical_accuracy: 0.9893\n",
      "Epoch 18/80\n",
      "82/82 [==============================] - 1s 9ms/step - loss: 0.0411 - sparse_categorical_accuracy: 0.9885 - val_loss: 0.0538 - val_sparse_categorical_accuracy: 0.9878\n",
      "Epoch 19/80\n",
      "82/82 [==============================] - 1s 9ms/step - loss: 0.0443 - sparse_categorical_accuracy: 0.9900 - val_loss: 0.0694 - val_sparse_categorical_accuracy: 0.9786\n",
      "Epoch 20/80\n",
      "82/82 [==============================] - 1s 9ms/step - loss: 0.0608 - sparse_categorical_accuracy: 0.9848 - val_loss: 0.0284 - val_sparse_categorical_accuracy: 0.9939\n",
      "Epoch 21/80\n",
      "82/82 [==============================] - 1s 9ms/step - loss: 0.0589 - sparse_categorical_accuracy: 0.9891 - val_loss: 0.0469 - val_sparse_categorical_accuracy: 0.9878\n",
      "Epoch 22/80\n",
      "63/82 [======================>.......] - ETA: 0s - loss: 0.0349 - sparse_categorical_accuracy: 0.9916"
     ]
    }
   ],
   "source": [
    "history = model.fit(\n",
    "    X, \n",
    "    y,\n",
    "    batch_size = batch_size,\n",
    "    epochs = epochs,\n",
    "    validation_split = 0.2,\n",
    "    callbacks = [tf.keras.callbacks.EarlyStopping(monitor='val_loss', patience=10)]\n",
    ")"
   ]
  },
  {
   "cell_type": "code",
   "execution_count": null,
   "metadata": {},
   "outputs": [],
   "source": [
    "import pandas as pd\n",
    "def plot_learning_curves(history):\n",
    "    df = pd.DataFrame(history.history)\n",
    "    df.plot(figsize=(8,5))\n",
    "    plt.grid(True)\n",
    "    plt.gca().set_ylim(0,1)\n",
    "    plt.show()\n",
    "    \n",
    "plot_learning_curves(history)"
   ]
  },
  {
   "cell_type": "code",
   "execution_count": null,
   "metadata": {},
   "outputs": [],
   "source": [
    "out = model.predict(np.expand_dims(X[5], 0))\n",
    "plt.imshow(X[5], cmap=plt.get_cmap('gray'))\n",
    "out"
   ]
  },
  {
   "cell_type": "code",
   "execution_count": null,
   "metadata": {},
   "outputs": [],
   "source": [
    "model.save('model.h5')"
   ]
  },
  {
   "cell_type": "code",
   "execution_count": null,
   "metadata": {},
   "outputs": [],
   "source": []
  }
 ],
 "metadata": {
  "kernelspec": {
   "display_name": "Python 3",
   "language": "python",
   "name": "python3"
  },
  "language_info": {
   "codemirror_mode": {
    "name": "ipython",
    "version": 3
   },
   "file_extension": ".py",
   "mimetype": "text/x-python",
   "name": "python",
   "nbconvert_exporter": "python",
   "pygments_lexer": "ipython3",
   "version": "3.6.8"
  }
 },
 "nbformat": 4,
 "nbformat_minor": 4
}
