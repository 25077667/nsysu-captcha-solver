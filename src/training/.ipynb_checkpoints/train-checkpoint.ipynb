{
 "cells": [
  {
   "cell_type": "code",
   "execution_count": 1,
   "metadata": {},
   "outputs": [
    {
     "name": "stdout",
     "output_type": "stream",
     "text": [
      "[5. 1. 1. 7.]\n"
     ]
    },
    {
     "data": {
      "image/png": "[encoded data removed]",
      "text/plain": [
       "<Figure size 432x288 with 1 Axes>"
      ]
     },
     "metadata": {
      "needs_background": "light"
     },
     "output_type": "display_data"
    }
   ],
   "source": [
    "import cv2\n",
    "import random\n",
    "import os\n",
    "import numpy as np\n",
    "import matplotlib.pyplot as plt\n",
    "import tensorflow as tf\n",
    "\n",
    "encoding = '123456789'\n",
    "root_dir = 'dataset'\n",
    "\n",
    "img_list = []\n",
    "label_list = []\n",
    "for root, dirs, files in os.walk(root_dir):\n",
    "    if root == root_dir:\n",
    "        img_list.extend([root+'/'+f for f in files])\n",
    "        for f in files:\n",
    "            label = []\n",
    "            for i in range(4):\n",
    "                label.append(encoding.index(f[i]))\n",
    "            label_list.append(label) \n",
    "items= []\n",
    "for i in range(len(img_list)):\n",
    "    items.append(i)\n",
    "X = []\n",
    "y = []\n",
    "for i in random.sample(items,len(img_list)):\n",
    "    img = cv2.imread(img_list[i], 0)\n",
    "    img = tf.keras.preprocessing.image.img_to_array(img)\n",
    "    X.append(img)\n",
    "    y.append(label_list[i])\n",
    "    \n",
    "X = 1 - np.array(X).astype(float)/255 # invert and scale\n",
    "y = np.array(y).astype(float)\n",
    "\n",
    "plt.imshow(X[0], cmap=plt.get_cmap('gray'))\n",
    "print(y[0])\n",
    "y = y.T # for traning, shape: (120, 4) => (4, 120)\n",
    "y = [arr for arr in y]"
   ]
  },
  {
   "cell_type": "code",
   "execution_count": 2,
   "metadata": {},
   "outputs": [
    {
     "name": "stdout",
     "output_type": "stream",
     "text": [
      "Downloading data from https://storage.googleapis.com/tensorflow/keras-applications/mobilenet_v2/mobilenet_v2_weights_tf_dim_ordering_tf_kernels_1.0_224.h5\n",
      "14540800/14536120 [==============================] - 1s 0us/step\n",
      "Model: \"model\"\n",
      "__________________________________________________________________________________________________\n",
      "Layer (type)                    Output Shape         Param #     Connected to                     \n",
      "==================================================================================================\n",
      "input_1 (InputLayer)            [(None, 24, 124, 1)] 0                                            \n",
      "__________________________________________________________________________________________________\n",
      "zero_padding2d (ZeroPadding2D)  (None, 124, 124, 1)  0           input_1[0][0]                    \n",
      "__________________________________________________________________________________________________\n",
      "resizing (Resizing)             (None, 224, 224, 1)  0           zero_padding2d[0][0]             \n",
      "__________________________________________________________________________________________________\n",
      "conv2d (Conv2D)                 (None, 224, 224, 3)  30          resizing[0][0]                   \n",
      "__________________________________________________________________________________________________\n",
      "mobilenetv2_1.00_224 (Functiona (None, 1000)         3538984     conv2d[0][0]                     \n",
      "__________________________________________________________________________________________________\n",
      "dropout (Dropout)               (None, 1000)         0           mobilenetv2_1.00_224[0][0]       \n",
      "__________________________________________________________________________________________________\n",
      "d1 (Dense)                      (None, 9)            9009        dropout[0][0]                    \n",
      "__________________________________________________________________________________________________\n",
      "d2 (Dense)                      (None, 9)            9009        dropout[0][0]                    \n",
      "__________________________________________________________________________________________________\n",
      "d3 (Dense)                      (None, 9)            9009        dropout[0][0]                    \n",
      "__________________________________________________________________________________________________\n",
      "d4 (Dense)                      (None, 9)            9009        dropout[0][0]                    \n",
      "==================================================================================================\n",
      "Total params: 3,575,050\n",
      "Trainable params: 3,540,938\n",
      "Non-trainable params: 34,112\n",
      "__________________________________________________________________________________________________\n"
     ]
    }
   ],
   "source": [
    "inputs = tf.keras.Input((24, 124, 1))\n",
    "x = tf.keras.layers.ZeroPadding2D((50, 0))(inputs)\n",
    "x = tf.keras.layers.experimental.preprocessing.Resizing(224, 224)(x)\n",
    "x = tf.keras.layers.Conv2D(3, 3, padding='same')(x)\n",
    "x = tf.keras.applications.MobileNetV2(input_shape=(224, 224, 3))(x)\n",
    "x = tf.keras.layers.Dropout(0.5)(x)\n",
    "outputs = [tf.keras.layers.Dense(9, name='d1', activation='softmax')(x),\\\n",
    "           tf.keras.layers.Dense(9, name='d2', activation='softmax')(x),\\\n",
    "           tf.keras.layers.Dense(9, name='d3', activation='softmax')(x),\\\n",
    "           tf.keras.layers.Dense(9, name='d4', activation='softmax')(x)]\n",
    "model = tf.keras.models.Model(inputs=inputs, outputs=outputs)\n",
    "model.summary()"
   ]
  },
  {
   "cell_type": "code",
   "execution_count": 3,
   "metadata": {},
   "outputs": [],
   "source": [
    "model.compile(\n",
    "    loss=tf.keras.losses.SparseCategoricalCrossentropy(), \n",
    "    optimizer=tf.keras.optimizers.Adam(), \n",
    "    metrics=[tf.keras.metrics.SparseCategoricalAccuracy()]\n",
    ")\n",
    "batch_size = 32\n",
    "epochs = 50"
   ]
  },
  {
   "cell_type": "code",
   "execution_count": null,
   "metadata": {},
   "outputs": [],
   "source": [
    "history = model.fit(\n",
    "    X, \n",
    "    y,\n",
    "    batch_size = batch_size,\n",
    "    epochs = epochs,\n",
    "    validation_split = 0.8\n",
    ")"
   ]
  },
  {
   "cell_type": "code",
   "execution_count": null,
   "metadata": {},
   "outputs": [],
   "source": [
    "import pandas as pd\n",
    "def plot_learning_curves(history):\n",
    "    df = pd.DataFrame(history.history)\n",
    "    df = df[['d1_sparse_categorical_accuracy',\n",
    "             'd2_sparse_categorical_accuracy',\n",
    "             'd3_sparse_categorical_accuracy',\n",
    "             'd4_sparse_categorical_accuracy',\n",
    "             'val_d1_sparse_categorical_accuracy',\n",
    "             'val_d2_sparse_categorical_accuracy',\n",
    "             'val_d3_sparse_categorical_accuracy',\n",
    "             'val_d4_sparse_categorical_accuracy'\n",
    "            ]]\n",
    "    df.plot(figsize=(8,5))\n",
    "    plt.grid(True)\n",
    "    plt.gca().set_ylim(0,1)\n",
    "    plt.show()\n",
    "    \n",
    "plot_learning_curves(history)"
   ]
  },
  {
   "cell_type": "code",
   "execution_count": null,
   "metadata": {},
   "outputs": [],
   "source": [
    "out = model.predict(np.expand_dims(X[-1], 0))\n",
    "plt.imshow(X[-1], cmap=plt.get_cmap('gray'))\n",
    "out"
   ]
  },
  {
   "cell_type": "code",
   "execution_count": null,
   "metadata": {},
   "outputs": [],
   "source": []
  }
 ],
 "metadata": {
  "kernelspec": {
   "display_name": "Python 3",
   "language": "python",
   "name": "python3"
  },
  "language_info": {
   "codemirror_mode": {
    "name": "ipython",
    "version": 3
   },
   "file_extension": ".py",
   "mimetype": "text/x-python",
   "name": "python",
   "nbconvert_exporter": "python",
   "pygments_lexer": "ipython3",
   "version": "3.6.8"
  }
 },
 "nbformat": 4,
 "nbformat_minor": 4
}
