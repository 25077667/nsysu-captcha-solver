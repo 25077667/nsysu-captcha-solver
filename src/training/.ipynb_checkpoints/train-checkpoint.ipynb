{
 "cells": [
  {
   "cell_type": "code",
   "execution_count": 1,
   "metadata": {},
   "outputs": [
    {
     "name": "stdout",
     "output_type": "stream",
     "text": [
      "1.0\n"
     ]
    },
    {
     "data": {
      "image/png": "[encoded data removed]",
      "text/plain": [
       "<Figure size 432x288 with 1 Axes>"
      ]
     },
     "metadata": {
      "needs_background": "light"
     },
     "output_type": "display_data"
    }
   ],
   "source": [
    "import cv2\n",
    "import csv\n",
    "import random\n",
    "import numpy as np\n",
    "import matplotlib.pyplot as plt\n",
    "import tensorflow as tf\n",
    "\n",
    "encoding = '123456789'\n",
    "labels_file = 'labels.csv'\n",
    "\n",
    "img_list = []\n",
    "label_list = []\n",
    "\n",
    "with open(labels_file, newline='') as csvfile:\n",
    "    reader = csv.DictReader(csvfile)\n",
    "    fieldnames = reader.fieldnames\n",
    "    for row in reader:\n",
    "        img_list.append(row[fieldnames[0]])\n",
    "        label_list.append(encoding.index(row[fieldnames[1]]))\n",
    "    \n",
    "items=[]\n",
    "for i in range(len(img_list)):\n",
    "    items.append(i)\n",
    "X = []\n",
    "y = []\n",
    "for i in random.sample(items,len(img_list)):\n",
    "    img = cv2.imread(img_list[i], 0)\n",
    "    img = tf.keras.preprocessing.image.img_to_array(img)\n",
    "    X.append(img)\n",
    "    y.append(label_list[i])\n",
    "    \n",
    "X = 1 - np.array(X).astype(float)/255 # invert and scale\n",
    "y = np.array(y).astype(float)\n",
    "\n",
    "plt.imshow(X[0], cmap=plt.get_cmap('gray'))\n",
    "print(y[0])"
   ]
  },
  {
   "cell_type": "raw",
   "metadata": {},
   "source": [
    "inputs = tf.keras.Input((24, 31, 1))\n",
    "x = tf.keras.layers.experimental.preprocessing.Resizing(224, 224)(inputs)\n",
    "x = tf.keras.layers.Conv2D(3, 1, padding='same')(x)\n",
    "x = tf.keras.applications.MobileNetV2(input_shape=(224, 224, 3))(x)\n",
    "x = tf.keras.layers.Dropout(0.5)(x)\n",
    "outputs = tf.keras.layers.Dense(9, activation='softmax')(x)\n",
    "model = tf.keras.models.Model(inputs=inputs, outputs=outputs)\n",
    "model.summary()"
   ]
  },
  {
   "cell_type": "code",
   "execution_count": 2,
   "metadata": {},
   "outputs": [
    {
     "name": "stdout",
     "output_type": "stream",
     "text": [
      "Model: \"sequential\"\n",
      "_________________________________________________________________\n",
      "Layer (type)                 Output Shape              Param #   \n",
      "=================================================================\n",
      "conv2d (Conv2D)              (None, 22, 29, 32)        320       \n",
      "_________________________________________________________________\n",
      "conv2d_1 (Conv2D)            (None, 20, 27, 64)        18496     \n",
      "_________________________________________________________________\n",
      "max_pooling2d (MaxPooling2D) (None, 10, 13, 64)        0         \n",
      "_________________________________________________________________\n",
      "dropout (Dropout)            (None, 10, 13, 64)        0         \n",
      "_________________________________________________________________\n",
      "flatten (Flatten)            (None, 8320)              0         \n",
      "_________________________________________________________________\n",
      "dense (Dense)                (None, 128)               1065088   \n",
      "_________________________________________________________________\n",
      "dropout_1 (Dropout)          (None, 128)               0         \n",
      "_________________________________________________________________\n",
      "dense_1 (Dense)              (None, 9)                 1161      \n",
      "=================================================================\n",
      "Total params: 1,085,065\n",
      "Trainable params: 1,085,065\n",
      "Non-trainable params: 0\n",
      "_________________________________________________________________\n"
     ]
    }
   ],
   "source": [
    "model = tf.keras.Sequential()\n",
    "model.add(tf.keras.layers.Conv2D(32, kernel_size=(3, 3), activation='relu', input_shape=(24, 31, 1)))\n",
    "model.add(tf.keras.layers.Conv2D(64, (3, 3), activation='relu'))\n",
    "model.add(tf.keras.layers.MaxPooling2D(pool_size=(2, 2)))\n",
    "model.add(tf.keras.layers.Dropout(rate=0.25))\n",
    "model.add(tf.keras.layers.Flatten())\n",
    "model.add(tf.keras.layers.Dense(128, activation='relu'))\n",
    "model.add(tf.keras.layers.Dropout(rate=0.5))\n",
    "model.add(tf.keras.layers.Dense(9, activation='softmax'))\n",
    "model.summary()"
   ]
  },
  {
   "cell_type": "code",
   "execution_count": 3,
   "metadata": {},
   "outputs": [],
   "source": [
    "model.compile(\n",
    "    loss=tf.keras.losses.SparseCategoricalCrossentropy(), \n",
    "    optimizer=tf.keras.optimizers.Adam(learning_rate=1e-4), \n",
    "    metrics=[tf.keras.metrics.SparseCategoricalAccuracy()]\n",
    ")\n",
    "batch_size = 32\n",
    "epochs = 25"
   ]
  },
  {
   "cell_type": "code",
   "execution_count": 4,
   "metadata": {},
   "outputs": [
    {
     "name": "stdout",
     "output_type": "stream",
     "text": [
      "Epoch 1/25\n",
      "29/29 [==============================] - 1s 26ms/step - loss: 2.1862 - sparse_categorical_accuracy: 0.1772 - val_loss: 2.1455 - val_sparse_categorical_accuracy: 0.2489\n",
      "Epoch 2/25\n",
      "29/29 [==============================] - 0s 11ms/step - loss: 2.1216 - sparse_categorical_accuracy: 0.2699 - val_loss: 2.0581 - val_sparse_categorical_accuracy: 0.3911\n",
      "Epoch 3/25\n",
      "29/29 [==============================] - 0s 11ms/step - loss: 1.9842 - sparse_categorical_accuracy: 0.3903 - val_loss: 1.8949 - val_sparse_categorical_accuracy: 0.4978\n",
      "Epoch 4/25\n",
      "29/29 [==============================] - 0s 11ms/step - loss: 1.7770 - sparse_categorical_accuracy: 0.5137 - val_loss: 1.6831 - val_sparse_categorical_accuracy: 0.5778\n",
      "Epoch 5/25\n",
      "29/29 [==============================] - 0s 11ms/step - loss: 1.5602 - sparse_categorical_accuracy: 0.5938 - val_loss: 1.4547 - val_sparse_categorical_accuracy: 0.5822\n",
      "Epoch 6/25\n",
      "29/29 [==============================] - 0s 11ms/step - loss: 1.3031 - sparse_categorical_accuracy: 0.6482 - val_loss: 1.2492 - val_sparse_categorical_accuracy: 0.6844\n",
      "Epoch 7/25\n",
      "29/29 [==============================] - 0s 11ms/step - loss: 1.2244 - sparse_categorical_accuracy: 0.6551 - val_loss: 1.1007 - val_sparse_categorical_accuracy: 0.7156\n",
      "Epoch 8/25\n",
      "29/29 [==============================] - 0s 11ms/step - loss: 1.0514 - sparse_categorical_accuracy: 0.7010 - val_loss: 0.9774 - val_sparse_categorical_accuracy: 0.7600\n",
      "Epoch 9/25\n",
      "29/29 [==============================] - 0s 11ms/step - loss: 0.9691 - sparse_categorical_accuracy: 0.7123 - val_loss: 0.9131 - val_sparse_categorical_accuracy: 0.7467\n",
      "Epoch 10/25\n",
      "29/29 [==============================] - 0s 10ms/step - loss: 0.8669 - sparse_categorical_accuracy: 0.7291 - val_loss: 0.8284 - val_sparse_categorical_accuracy: 0.7689\n",
      "Epoch 11/25\n",
      "29/29 [==============================] - 0s 11ms/step - loss: 0.8662 - sparse_categorical_accuracy: 0.7210 - val_loss: 0.7576 - val_sparse_categorical_accuracy: 0.7911\n",
      "Epoch 12/25\n",
      "29/29 [==============================] - 0s 11ms/step - loss: 0.7079 - sparse_categorical_accuracy: 0.8041 - val_loss: 0.7556 - val_sparse_categorical_accuracy: 0.8000\n",
      "Epoch 13/25\n",
      "29/29 [==============================] - 0s 10ms/step - loss: 0.6782 - sparse_categorical_accuracy: 0.7880 - val_loss: 0.6874 - val_sparse_categorical_accuracy: 0.8000\n",
      "Epoch 14/25\n",
      "29/29 [==============================] - 0s 11ms/step - loss: 0.6216 - sparse_categorical_accuracy: 0.8459 - val_loss: 0.6454 - val_sparse_categorical_accuracy: 0.8089\n",
      "Epoch 15/25\n",
      "29/29 [==============================] - 0s 11ms/step - loss: 0.6444 - sparse_categorical_accuracy: 0.8054 - val_loss: 0.6166 - val_sparse_categorical_accuracy: 0.8356\n",
      "Epoch 16/25\n",
      "29/29 [==============================] - 0s 12ms/step - loss: 0.6034 - sparse_categorical_accuracy: 0.8095 - val_loss: 0.5789 - val_sparse_categorical_accuracy: 0.8400\n",
      "Epoch 17/25\n",
      "29/29 [==============================] - 0s 11ms/step - loss: 0.5266 - sparse_categorical_accuracy: 0.8170 - val_loss: 0.5627 - val_sparse_categorical_accuracy: 0.8444\n",
      "Epoch 18/25\n",
      "29/29 [==============================] - 0s 11ms/step - loss: 0.5079 - sparse_categorical_accuracy: 0.8483 - val_loss: 0.5601 - val_sparse_categorical_accuracy: 0.8489\n",
      "Epoch 19/25\n",
      "29/29 [==============================] - 0s 11ms/step - loss: 0.4779 - sparse_categorical_accuracy: 0.8717 - val_loss: 0.5137 - val_sparse_categorical_accuracy: 0.8622\n",
      "Epoch 20/25\n",
      "29/29 [==============================] - 0s 11ms/step - loss: 0.4656 - sparse_categorical_accuracy: 0.8639 - val_loss: 0.5075 - val_sparse_categorical_accuracy: 0.8533\n",
      "Epoch 21/25\n",
      "29/29 [==============================] - 0s 11ms/step - loss: 0.4724 - sparse_categorical_accuracy: 0.8525 - val_loss: 0.4941 - val_sparse_categorical_accuracy: 0.8756\n",
      "Epoch 22/25\n",
      "29/29 [==============================] - 0s 10ms/step - loss: 0.3682 - sparse_categorical_accuracy: 0.8853 - val_loss: 0.4587 - val_sparse_categorical_accuracy: 0.8756\n",
      "Epoch 23/25\n",
      "29/29 [==============================] - 0s 11ms/step - loss: 0.3923 - sparse_categorical_accuracy: 0.8919 - val_loss: 0.4581 - val_sparse_categorical_accuracy: 0.8711\n",
      "Epoch 24/25\n",
      "29/29 [==============================] - 0s 13ms/step - loss: 0.3396 - sparse_categorical_accuracy: 0.9001 - val_loss: 0.4154 - val_sparse_categorical_accuracy: 0.8844\n",
      "Epoch 25/25\n",
      "29/29 [==============================] - 0s 12ms/step - loss: 0.3385 - sparse_categorical_accuracy: 0.8925 - val_loss: 0.4264 - val_sparse_categorical_accuracy: 0.8933\n"
     ]
    }
   ],
   "source": [
    "history = model.fit(\n",
    "    X, \n",
    "    y,\n",
    "    batch_size = batch_size,\n",
    "    epochs = epochs,\n",
    "    validation_split = 0.2\n",
    ")"
   ]
  },
  {
   "cell_type": "code",
   "execution_count": 5,
   "metadata": {},
   "outputs": [
    {
     "data": {
      "image/png": "[encoded data removed]",
      "text/plain": [
       "<Figure size 576x360 with 1 Axes>"
      ]
     },
     "metadata": {
      "needs_background": "light"
     },
     "output_type": "display_data"
    }
   ],
   "source": [
    "import pandas as pd\n",
    "def plot_learning_curves(history):\n",
    "    df = pd.DataFrame(history.history)\n",
    "    df.plot(figsize=(8,5))\n",
    "    plt.grid(True)\n",
    "    plt.gca().set_ylim(0,1)\n",
    "    plt.show()\n",
    "    \n",
    "plot_learning_curves(history)"
   ]
  },
  {
   "cell_type": "code",
   "execution_count": 6,
   "metadata": {},
   "outputs": [
    {
     "data": {
      "text/plain": [
       "array([[2.7091956e-02, 1.7361796e-03, 2.3050567e-02, 2.0788731e-02,\n",
       "        7.9712728e-03, 2.7194586e-01, 5.2026586e-05, 6.3611680e-01,\n",
       "        1.1246631e-02]], dtype=float32)"
      ]
     },
     "execution_count": 6,
     "metadata": {},
     "output_type": "execute_result"
    },
    {
     "data": {
      "image/png": "[encoded data removed]",
      "text/plain": [
       "<Figure size 432x288 with 1 Axes>"
      ]
     },
     "metadata": {
      "needs_background": "light"
     },
     "output_type": "display_data"
    }
   ],
   "source": [
    "out = model.predict(np.expand_dims(X[5], 0))\n",
    "plt.imshow(X[5], cmap=plt.get_cmap('gray'))\n",
    "out"
   ]
  },
  {
   "cell_type": "code",
   "execution_count": null,
   "metadata": {},
   "outputs": [],
   "source": []
  }
 ],
 "metadata": {
  "kernelspec": {
   "display_name": "Python 3",
   "language": "python",
   "name": "python3"
  },
  "language_info": {
   "codemirror_mode": {
    "name": "ipython",
    "version": 3
   },
   "file_extension": ".py",
   "mimetype": "text/x-python",
   "name": "python",
   "nbconvert_exporter": "python",
   "pygments_lexer": "ipython3",
   "version": "3.6.8"
  }
 },
 "nbformat": 4,
 "nbformat_minor": 4
}
